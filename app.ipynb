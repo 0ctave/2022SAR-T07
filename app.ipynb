{
 "cells": [
  {
   "cell_type": "code",
   "execution_count": 29,
   "metadata": {
    "collapsed": false,
    "pycharm": {
     "name": "#%%\n"
    }
   },
   "outputs": [],
   "source": [
    "import requests\n",
    "import visualisationGlock2 as v\n",
    "import json\n",
    "import matplotlib.pyplot as plt\n",
    "from IPython.display import clear_output\n",
    "import time\n",
    "import numpy as np\n",
    "\n",
    "\n",
    "urlo = \"https://entersim.bloctave.fr/\"\n",
    "sim_id = \"sim3\""
   ]
  },
  {
   "cell_type": "code",
   "execution_count": null,
   "metadata": {
    "collapsed": false,
    "pycharm": {
     "name": "#%%\n"
    }
   },
   "outputs": [],
   "source": [
    "#FUNCTIONS\n",
    "def initOneStep() :\n",
    "    requests.post( urlo+ \"control/poll/run_one_step\")\n",
    "\n",
    "def getPoll(url) :\n",
    "    return requests.get(urlo + \"enterprise/poll/\"+url)\n",
    "\n",
    "def initSimu() :\n",
    "    url = f'https://entersim.bloctave.fr/control/poll/create_from_example/{sim_id}'\n",
    "    response = requests.post(url)"
   ]
  },
  {
   "cell_type": "code",
   "execution_count": null,
   "metadata": {
    "collapsed": false,
    "pycharm": {
     "name": "#%%\n"
    }
   },
   "outputs": [],
   "source": [
    "#FONDS EN EURO\n",
    "initSimu()\n",
    "\n",
    "graph = v.LineGraph(\"Funds in euro\", x_legend='Hours', y_legend=\"Funds in euro\")\n",
    "for i in range(100):\n",
    "    requests.post( urlo+ \"control/poll/run_one_step\")\n",
    "    url = urlo + \"enterprise/poll/inventory\"\n",
    "    response = requests.get(url, stream=True)   \n",
    "    t += 1\n",
    "    x = response.json()[\"funds_in_eur\"]\n",
    "    graph.addPoint(t,x)"
   ]
  },
  {
   "cell_type": "code",
   "execution_count": null,
   "metadata": {
    "collapsed": false,
    "pycharm": {
     "name": "#%%\n"
    }
   },
   "outputs": [],
   "source": [
    "#ETATS DES MACHINES\n",
    "initSimu()\n",
    "\n",
    "graph = v.MultipleLineGraph(['Machine1', 'Machine2'], 'Taux nominal machine', x_legend = 'Hours', y_legend='Taux de production')\n",
    "\n",
    "for i in range(100):\n",
    "    requests.post( urlo+ \"control/poll/run_one_step\")\n",
    "    response = requests.get(urlo + \"enterprise/poll/machine\")\n",
    "    X=[]\n",
    "    for json in response.json() :\n",
    "        #print(json)\n",
    "        X.append(json['machine_type']['nominal_output_rate_items_per_hour'])\n",
    "    print(X)\n",
    "    graph.addPoint(i,X)"
   ]
  },
  {
   "cell_type": "code",
   "execution_count": null,
   "metadata": {
    "collapsed": false,
    "pycharm": {
     "name": "#%%\n"
    }
   },
   "outputs": [],
   "source": [
    "#INVENTAIRE\n",
    "\n",
    "#Initialisation\n",
    "nbStep = 100\n",
    "t = 0\n",
    "initSimu()\n",
    "initOneStep()\n",
    "\n",
    "#Graph making\n",
    "response = getPoll('inventory').json()\n",
    "nameList = [item['item']['name'] for item in response['item_quantities']]\n",
    "graph = v.MultipleLineGraph(nameList, 'Quantities', x_legend = 'Hours', y_legend='Quantity of items')\n",
    "\n",
    "for i in range(nbStep):\n",
    "    X=[]\n",
    "    for dic in response['item_quantities'] :\n",
    "        X.append(dic['quantity'])\n",
    "    print(X)\n",
    "    graph.addPoint(i,X)\n",
    "\n",
    "    response = getPoll('inventory').json()\n",
    "    initOneStep()"
   ]
  },
  {
   "cell_type": "code",
   "execution_count": 30,
   "metadata": {
    "collapsed": false,
    "pycharm": {
     "name": "#%%\n"
    }
   },
   "outputs": [
    {
     "ename": "AttributeError",
     "evalue": "'BarContainer' object has no attribute 'set_yticks'",
     "output_type": "error",
     "traceback": [
      "\u001b[1;31m---------------------------------------------------------------------------\u001b[0m",
      "\u001b[1;31mAttributeError\u001b[0m                            Traceback (most recent call last)",
      "\u001b[1;32mc:\\Users\\Khéo\\OneDrive\\IMT\\A1\\Cours\\SAR\\Dépot\\2022SAR-T07\\app.ipynb Cell 6'\u001b[0m in \u001b[0;36m<cell line: 4>\u001b[1;34m()\u001b[0m\n\u001b[0;32m     <a href='vscode-notebook-cell:/c%3A/Users/Kh%C3%A9o/OneDrive/IMT/A1/Cours/SAR/D%C3%A9pot/2022SAR-T07/app.ipynb#ch0000005?line=11'>12</a>\u001b[0m clear_output(wait\u001b[39m=\u001b[39m\u001b[39mTrue\u001b[39;00m)\n\u001b[0;32m     <a href='vscode-notebook-cell:/c%3A/Users/Kh%C3%A9o/OneDrive/IMT/A1/Cours/SAR/D%C3%A9pot/2022SAR-T07/app.ipynb#ch0000005?line=13'>14</a>\u001b[0m ax \u001b[39m=\u001b[39m plt\u001b[39m.\u001b[39mbar(employe, hours)\n\u001b[1;32m---> <a href='vscode-notebook-cell:/c%3A/Users/Kh%C3%A9o/OneDrive/IMT/A1/Cours/SAR/D%C3%A9pot/2022SAR-T07/app.ipynb#ch0000005?line=14'>15</a>\u001b[0m ax\u001b[39m.\u001b[39;49mset_yticks(np\u001b[39m.\u001b[39marange(\u001b[39m0\u001b[39m, \u001b[39m20\u001b[39m, \u001b[39m2\u001b[39m))\n\u001b[0;32m     <a href='vscode-notebook-cell:/c%3A/Users/Kh%C3%A9o/OneDrive/IMT/A1/Cours/SAR/D%C3%A9pot/2022SAR-T07/app.ipynb#ch0000005?line=15'>16</a>\u001b[0m plt\u001b[39m.\u001b[39mshow()\n",
      "\u001b[1;31mAttributeError\u001b[0m: 'BarContainer' object has no attribute 'set_yticks'"
     ]
    },
    {
     "data": {
      "image/png": "[encoded data removed]",
      "text/plain": [
       "<Figure size 432x288 with 1 Axes>"
      ]
     },
     "metadata": {
      "needs_background": "light"
     },
     "output_type": "display_data"
    }
   ],
   "source": [
    "#HEALTH/SICKNESS\n",
    "initSimu()\n",
    "\n",
    "for i in range(100):\n",
    "    initOneStep()\n",
    "    response = requests.get(urlo + \"enterprise/poll/employee\")\n",
    "    employe =[]\n",
    "    hours =[]\n",
    "    for json in response.json() :\n",
    "        employe += [(json['name'])]\n",
    "        hours.append(json['remaining_sickness_in_hours_worked'])\n",
    "    clear_output(wait=True)\n",
    "\n",
    "    plt.bar(employe, hours)\n",
    "    plt.show()"
   ]
  },
  {
   "cell_type": "code",
   "execution_count": null,
   "metadata": {
    "collapsed": false,
    "pycharm": {
     "name": "#%%\n"
    }
   },
   "outputs": [],
   "source": [
    "#INVENTORY PER TYPE OF ITEM \n",
    "initSimu()\n",
    "\n",
    "for t in range(100):\n",
    "    initOneStep()\n",
    "\n",
    "    response = requests.get(urlo + \"enterprise/poll/inventory\")\n",
    "    names =[]\n",
    "    quantity =[]\n",
    "\n",
    "    for json in response.json()[\"item_quantities\"] :\n",
    "        #print(json)\n",
    "        names.append((json['item']['name']))\n",
    "        quantity.append(json['quantity'])\n",
    "    clear_output(wait=True)\n",
    "    plt.bar(names, quantity)\n",
    "    plt.show()\n"
   ]
  },
  {
   "cell_type": "code",
   "execution_count": null,
   "metadata": {
    "collapsed": false,
    "pycharm": {
     "is_executing": true,
     "name": "#%%\n"
    }
   },
   "outputs": [],
   "source": [
    "#Total profit (without initial funds)\n",
    "initSimu()\n",
    "\n",
    "graph = v.LineGraph(\"Budget in euro\", x_legend='Hours', y_legend=\"Funds in euro\")\n",
    "requests.post(urlo + \"control/poll/run_one_step\")\n",
    "url = urlo + \"enterprise/poll/inventory\"\n",
    "initialAmount = requests.get(url, stream=True).json()[\"funds_in_eur\"]\n",
    "for i in range(100):\n",
    "    requests.post(urlo + \"control/poll/run_one_step\")\n",
    "    t += 1\n",
    "    x = requests.get(url, stream=True).json()[\"funds_in_eur\"]\n",
    "    graph.addPoint(t, x - initialAmount)"
   ]
  },
  {
   "cell_type": "code",
   "execution_count": null,
   "metadata": {
    "collapsed": false,
    "pycharm": {
     "name": "#%%\n"
    }
   },
   "outputs": [],
   "source": [
    "#Total profit from start of simulation (Without initial funds) per hour worked per employee\n",
    "initSimu()\n",
    "\n",
    "response = requests.get(urlo + \"enterprise/poll/inventory\")\n",
    "initialAmount = response.json()[\"funds_in_eur\"]\n",
    "employe = []\n",
    "profitH = []\n",
    "hours = {}\n",
    "\n",
    "\n",
    "response = requests.get(urlo + \"enterprise/poll/employee\")\n",
    "for json in response.json() :\n",
    "    employe += [(json['name'])]\n",
    "    hours[(json['name'])] = 1\n",
    "\n",
    "graph = v.MultipleLineGraph(employe, 'Total profit per hours per employe', x_legend = 'Hours', y_legend='Total profit per hours')\n",
    "\n",
    "for t in range(1,100):\n",
    "    initOneStep()   \n",
    "\n",
    "    #Total profit\n",
    "    response = requests.get(urlo + \"enterprise/poll/inventory\")\n",
    "    profit = response.json()[\"funds_in_eur\"] - initialAmount\n",
    "\n",
    "    #Hours worked\n",
    "    response = requests.get(urlo + \"enterprise/poll/employee\")\n",
    "    for json in response.json() :\n",
    "        if json['remaining_sickness_in_hours_worked'] == 0:\n",
    "            hours[(json['name'])] += 1\n",
    "    \n",
    "    #Total profit per hours\n",
    "    profitH = []\n",
    "    for ele in employe :\n",
    "        profitH += [profit/hours[ele]]\n",
    "    \n",
    "    graph.addPoint(t, profitH)\n"
   ]
  },
  {
   "cell_type": "code",
   "execution_count": null,
   "metadata": {},
   "outputs": [],
   "source": [
    "#SnapShot Funds in euro\n",
    "\n",
    "def funds(step):\n",
    "    initSimu()\n",
    "    for i in range(step):\n",
    "        requests.post( urlo+ \"control/poll/run_one_step\")\n",
    "    \n",
    "    url = urlo + \"enterprise/poll/inventory\"\n",
    "    response = requests.get(url, stream=True)   \n",
    "    x = response.json()[\"funds_in_eur\"]\n",
    "    plt.clf()\n",
    "    plt.bar(\"Current funds\", x)\n",
    "    plt.show()\n",
    "    \n",
    "\n",
    "funds(10)"
   ]
  },
  {
   "cell_type": "code",
   "execution_count": null,
   "metadata": {},
   "outputs": [],
   "source": [
    "#Snapshot Percentabe Healthy\n",
    "\n",
    "def perHealth(t:int, sim_id: str) :\n",
    "    initSimu()\n",
    "    for i in range(t):\n",
    "        initOneStep()\n",
    "    \n",
    "\n",
    "    employe = 0\n",
    "    nb_health = 0\n",
    "    response = requests.get(urlo + \"enterprise/poll/employee\")\n",
    "    for json in response.json() :\n",
    "        employe += 1\n",
    "        if json['remaining_sickness_in_hours_worked'] == 0:\n",
    "            nb_health += 1\n",
    "    \n",
    "    percentage = [nb_health, employe-nb_health]\n",
    "    labels = ['Healthy People', 'Sick People']\n",
    "    plt.pie(percentage, labels=labels,autopct='%.2f%%')\n",
    "    plt.show()\n",
    "\n",
    "\n",
    "perHealth(10, \"sim2\")"
   ]
  }
 ],
 "metadata": {
  "interpreter": {
   "hash": "5e765dc897edabe91acefeec51563890894a90b7c9130a77fb433a9c74b28dfa"
  },
  "kernelspec": {
   "display_name": "Python 3.9.7 ('sarvenv': venv)",
   "language": "python",
   "name": "python3"
  },
  "language_info": {
   "codemirror_mode": {
    "name": "ipython",
    "version": 3
   },
   "file_extension": ".py",
   "mimetype": "text/x-python",
   "name": "python",
   "nbconvert_exporter": "python",
   "pygments_lexer": "ipython3",
   "version": "3.9.7"
  },
  "orig_nbformat": 4
 },
 "nbformat": 4,
 "nbformat_minor": 2
}
