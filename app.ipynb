{
 "cells": [
  {
   "cell_type": "code",
   "execution_count": null,
   "metadata": {
    "collapsed": false,
    "pycharm": {
     "name": "#%%\n"
    }
   },
   "outputs": [],
   "source": [
    "import requests\n",
    "import visualisationGlock2 as v\n",
    "import json\n",
    "import matplotlib.pyplot as plt\n",
    "from IPython.display import clear_output\n",
    "import time\n",
    "\n",
    "\n",
    "urlo = \"https://entersim.bloctave.fr/\"\n",
    "sim_id = \"sim3\"\n",
    "url = f'https://entersim.bloctave.fr/control/poll/create_from_example/{sim_id}'\n",
    "response = requests.post(url)\n",
    "print(response)"
   ]
  },
  {
   "cell_type": "code",
   "execution_count": null,
   "metadata": {
    "collapsed": false,
    "pycharm": {
     "name": "#%%\n"
    }
   },
   "outputs": [],
   "source": [
    "#FUNCTIONS\n",
    "def initOneStep() :\n",
    "    requests.post( urlo+ \"control/poll/run_one_step\")\n",
    "\n",
    "def getPoll(url) :\n",
    "    return requests.get(urlo + \"enterprise/poll/\"+url)"
   ]
  },
  {
   "cell_type": "code",
   "execution_count": null,
   "metadata": {
    "collapsed": false,
    "pycharm": {
     "name": "#%%\n"
    }
   },
   "outputs": [],
   "source": [
    "#FONDS EN EURO\n",
    "t = 0\n",
    "graph = v.LineGraph(\"Funds in euro\", x_legend='Hours', y_legend=\"Funds in euro\")\n",
    "for i in range(100):\n",
    "    requests.post( urlo+ \"control/poll/run_one_step\")\n",
    "    url = urlo + \"enterprise/poll/inventory\"\n",
    "    response = requests.get(url, stream=True)   \n",
    "    t += 1\n",
    "    x = response.json()[\"funds_in_eur\"]\n",
    "    graph.addPoint(t,x)"
   ]
  },
  {
   "cell_type": "code",
   "execution_count": null,
   "metadata": {
    "collapsed": false,
    "pycharm": {
     "name": "#%%\n"
    }
   },
   "outputs": [],
   "source": [
    "#ETATS DES MACHINES\n",
    "t = 0\n",
    "graph = v.MultipleLineGraph(['Machine1', 'Machine2'], 'Taux nominal machine', x_legend = 'Hours', y_legend='Taux de production')\n",
    "\n",
    "for i in range(100):\n",
    "    requests.post( urlo+ \"control/poll/run_one_step\")\n",
    "    response = requests.get(urlo + \"enterprise/poll/machine\")\n",
    "    X=[]\n",
    "    for json in response.json() :\n",
    "        #print(json)\n",
    "        X.append(json['machine_type']['nominal_output_rate_items_per_hour'])\n",
    "    print(X)\n",
    "    graph.addPoint(i,X)"
   ]
  },
  {
   "cell_type": "code",
   "execution_count": null,
   "metadata": {
    "collapsed": false,
    "pycharm": {
     "name": "#%%\n"
    }
   },
   "outputs": [],
   "source": [
    "#INVENTAIRE\n",
    "\n",
    "#Initialisation\n",
    "nbStep = 100\n",
    "t = 0\n",
    "initOneStep()\n",
    "\n",
    "#Graph making\n",
    "response = getPoll('inventory').json()\n",
    "nameList = [item['item']['name'] for item in response['item_quantities']]\n",
    "graph = v.MultipleLineGraph(nameList, 'Quantities', x_legend = 'Hours', y_legend='Quantity of items')\n",
    "\n",
    "for i in range(nbStep):\n",
    "    X=[]\n",
    "    for dic in response['item_quantities'] :\n",
    "        X.append(dic['quantity'])\n",
    "    print(X)\n",
    "    graph.addPoint(i,X)\n",
    "\n",
    "    response = getPoll('inventory').json()"
   ]
  },
  {
   "cell_type": "code",
   "execution_count": null,
   "metadata": {
    "collapsed": false,
    "pycharm": {
     "name": "#%%\n"
    }
   },
   "outputs": [],
   "source": [
    "#HEALTH/SICKNESS\n",
    "\n",
    "for i in range(100):\n",
    "    requests.post( urlo+ \"control/poll/run_one_step\")\n",
    "    response = requests.get(urlo + \"enterprise/poll/employee\")\n",
    "    employe =[]\n",
    "    hours =[]\n",
    "    for json in response.json() :\n",
    "        employe += [(json['name'])]\n",
    "        hours.append(json['remaining_sickness_in_hours_worked'])\n",
    "    clear_output(wait=True)\n",
    "    plt.bar(employe, hours)\n",
    "    plt.show()"
   ]
  },
  {
   "cell_type": "code",
   "execution_count": null,
   "metadata": {
    "collapsed": false,
    "pycharm": {
     "name": "#%%\n"
    }
   },
   "outputs": [],
   "source": [
    "#INVENTORY PER TYPE OF ITEM \n",
    "\n",
    "for t in range(100):\n",
    "    initOneStep()\n",
    "\n",
    "    response = requests.get(urlo + \"enterprise/poll/inventory\")\n",
    "    names =[]\n",
    "    quantity =[]\n",
    "\n",
    "    for json in response.json()[\"item_quantities\"] :\n",
    "        #print(json)\n",
    "        names.append((json['item']['name']))\n",
    "        quantity.append(json['quantity'])\n",
    "    clear_output(wait=True)\n",
    "    plt.bar(names, quantity)\n",
    "    plt.show()\n"
   ]
  },
  {
   "cell_type": "code",
   "execution_count": null,
   "metadata": {
    "collapsed": false,
    "pycharm": {
     "is_executing": true,
     "name": "#%%\n"
    }
   },
   "outputs": [],
   "source": [
    "#Total profit (without initial funds)\n",
    "\n",
    "graph = v.LineGraph(\"Budget in euro\", x_legend='Hours', y_legend=\"Funds in euro\")\n",
    "requests.post(urlo + \"control/poll/run_one_step\")\n",
    "url = urlo + \"enterprise/poll/inventory\"\n",
    "initialAmount = requests.get(url, stream=True).json()[\"funds_in_eur\"]\n",
    "for i in range(100):\n",
    "    requests.post(urlo + \"control/poll/run_one_step\")\n",
    "    t += 1\n",
    "    x = requests.get(url, stream=True).json()[\"funds_in_eur\"]\n",
    "    graph.addPoint(t, x - initialAmount)"
   ]
  },
  {
   "cell_type": "code",
   "execution_count": null,
   "metadata": {
    "collapsed": false,
    "pycharm": {
     "name": "#%%\n"
    }
   },
   "outputs": [],
   "source": [
    "#Total profit from start of simulation (Without initial funds) per hour worked per employee\n",
    "\n",
    "response = requests.get(urlo + \"enterprise/poll/inventory\")\n",
    "initialAmount = response.json()[\"funds_in_eur\"]\n",
    "employe = []\n",
    "profitH = []\n",
    "hours = {}\n",
    "\n",
    "\n",
    "response = requests.get(urlo + \"enterprise/poll/employee\")\n",
    "for json in response.json() :\n",
    "    employe += [(json['name'])]\n",
    "    hours[(json['name'])] = 1\n",
    "\n",
    "graph = v.MultipleLineGraph(employe, 'Total profit per hours per employe', x_legend = 'Hours', y_legend='Total profit per hours')\n",
    "\n",
    "for t in range(1,100):\n",
    "    initOneStep()   \n",
    "\n",
    "    #Total profit\n",
    "    response = requests.get(urlo + \"enterprise/poll/inventory\")\n",
    "    profit = response.json()[\"funds_in_eur\"] - initialAmount\n",
    "\n",
    "    #Hours worked\n",
    "    response = requests.get(urlo + \"enterprise/poll/employee\")\n",
    "    for json in response.json() :\n",
    "        if json['remaining_sickness_in_hours_worked'] == 0:\n",
    "            hours[(json['name'])] += 1\n",
    "    \n",
    "    #Total profit per hours\n",
    "    profitH = []\n",
    "    for ele in employe :\n",
    "        profitH += [profit/hours[ele]]\n",
    "    \n",
    "    graph.addPoint(t, profitH)\n"
   ]
  },
  {
   "cell_type": "code",
   "execution_count": 49,
   "metadata": {},
   "outputs": [
    {
     "data": {
      "image/png": "[encoded data removed]",
      "text/plain": [
       "<Figure size 432x288 with 1 Axes>"
      ]
     },
     "metadata": {},
     "output_type": "display_data"
    }
   ],
   "source": [
    "#Percentabe Healthy\n",
    "\n",
    "def perHealth(t:int, sim_id: str) :\n",
    "    url = f'https://entersim.bloctave.fr/control/poll/create_from_example/{sim_id}'\n",
    "    response = requests.post(url)\n",
    "    for i in range(t):\n",
    "        initOneStep()\n",
    "    \n",
    "\n",
    "    employe = 0\n",
    "    nb_health = 0\n",
    "    response = requests.get(urlo + \"enterprise/poll/employee\")\n",
    "    for json in response.json() :\n",
    "        employe += 1\n",
    "        if json['remaining_sickness_in_hours_worked'] == 0:\n",
    "            nb_health += 1\n",
    "    \n",
    "    percentage = [nb_health, employe-nb_health]\n",
    "    labels = ['Healthy People', 'Sick People']\n",
    "    plt.pie(percentage, labels=labels,autopct='%1.2f%%')\n",
    "    plt.show()\n",
    "\n",
    "\n",
    "perHealth(10, \"sim2\")"
   ]
  }
 ],
 "metadata": {
  "interpreter": {
   "hash": "5e765dc897edabe91acefeec51563890894a90b7c9130a77fb433a9c74b28dfa"
  },
  "kernelspec": {
   "display_name": "Python 3.9.7 ('sarvenv': venv)",
   "language": "python",
   "name": "python3"
  },
  "language_info": {
   "codemirror_mode": {
    "name": "ipython",
    "version": 3
   },
   "file_extension": ".py",
   "mimetype": "text/x-python",
   "name": "python",
   "nbconvert_exporter": "python",
   "pygments_lexer": "ipython3",
   "version": "3.9.7"
  },
  "orig_nbformat": 4
 },
 "nbformat": 4,
 "nbformat_minor": 2
}
