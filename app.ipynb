{
 "cells": [
  {
   "cell_type": "code",
   "execution_count": null,
   "metadata": {
    "collapsed": false,
    "pycharm": {
     "name": "#%%\n"
    }
   },
   "outputs": [],
   "source": [
    "import requests\n",
    "import visualisationGlock2 as v\n",
    "import json\n",
    "import matplotlib.pyplot as plt\n",
    "from IPython.display import clear_output\n",
    "import time\n",
    "import numpy as np\n",
    "\n",
    "\n",
    "urlo = \"https://entersim.bloctave.fr/\"\n",
    "sim_id = \"sim3\""
   ]
  },
  {
   "cell_type": "code",
   "execution_count": null,
   "metadata": {
    "collapsed": false,
    "pycharm": {
     "name": "#%%\n"
    }
   },
   "outputs": [],
   "source": [
    "#FUNCTIONS\n",
    "def initOneStep() :\n",
    "    requests.post( urlo+ \"control/poll/run_one_step\")\n",
    "\n",
    "def getPoll(url) :\n",
    "    return requests.get(urlo + \"enterprise/poll/\"+url)\n",
    "\n",
    "def initSimu() :\n",
    "    url = f'https://entersim.bloctave.fr/control/poll/create_from_example/{sim_id}'\n",
    "    response = requests.post(url)"
   ]
  },
  {
   "cell_type": "code",
   "execution_count": null,
   "metadata": {
    "collapsed": false,
    "pycharm": {
     "name": "#%%\n"
    }
   },
   "outputs": [],
   "source": [
    "#FONDS EN EURO\n",
    "initSimu()\n",
    "\n",
    "graph = v.LineGraph(\"Funds in euro\", x_legend='Hours', y_legend=\"Funds in euro\")\n",
    "for i in range(100):\n",
    "    requests.post( urlo+ \"control/poll/run_one_step\")\n",
    "    url = urlo + \"enterprise/poll/inventory\"\n",
    "    response = requests.get(url, stream=True)   \n",
    "    t += 1\n",
    "    x = response.json()[\"funds_in_eur\"]\n",
    "    graph.addPoint(t,x)"
   ]
  },
  {
   "cell_type": "code",
   "execution_count": null,
   "metadata": {
    "collapsed": false,
    "pycharm": {
     "name": "#%%\n"
    }
   },
   "outputs": [],
   "source": [
    "#ETATS DES MACHINES\n",
    "initSimu()\n",
    "\n",
    "graph = v.MultipleLineGraph(['Machine1', 'Machine2'], 'Taux nominal machine', x_legend = 'Hours', y_legend='Taux de production')\n",
    "\n",
    "for i in range(100):\n",
    "    requests.post( urlo+ \"control/poll/run_one_step\")\n",
    "    response = requests.get(urlo + \"enterprise/poll/machine\")\n",
    "    X=[]\n",
    "    for json in response.json() :\n",
    "        #print(json)\n",
    "        X.append(json['machine_type']['nominal_output_rate_items_per_hour'])\n",
    "    print(X)\n",
    "    graph.addPoint(i,X)"
   ]
  },
  {
   "cell_type": "code",
   "execution_count": null,
   "metadata": {
    "collapsed": false,
    "pycharm": {
     "name": "#%%\n"
    }
   },
   "outputs": [],
   "source": [
    "#INVENTAIRE\n",
    "\n",
    "#Initialisation\n",
    "nbStep = 100\n",
    "t = 0\n",
    "initSimu()\n",
    "initOneStep()\n",
    "\n",
    "#Graph making\n",
    "response = getPoll('inventory').json()\n",
    "nameList = [item['item']['name'] for item in response['item_quantities']]\n",
    "graph = v.MultipleLineGraph(nameList, 'Quantities', x_legend = 'Hours', y_legend='Quantity of items')\n",
    "\n",
    "for i in range(nbStep):\n",
    "    X=[]\n",
    "    for dic in response['item_quantities'] :\n",
    "        X.append(dic['quantity'])\n",
    "    print(X)\n",
    "    graph.addPoint(i,X)\n",
    "\n",
    "    response = getPoll('inventory').json()\n",
    "    initOneStep()"
   ]
  },
  {
   "cell_type": "code",
   "execution_count": null,
   "metadata": {
    "collapsed": false,
    "pycharm": {
     "name": "#%%\n"
    }
   },
   "outputs": [],
   "source": [
    "#HEALTH/SICKNESS\n",
    "initSimu()\n",
    "\n",
    "for i in range(100):\n",
    "    initOneStep()\n",
    "    response = requests.get(urlo + \"enterprise/poll/employee\")\n",
    "    employe =[]\n",
    "    hours =[]\n",
    "    for json in response.json() :\n",
    "        employe += [(json['name'])]\n",
    "        hours.append(json['remaining_sickness_in_hours_worked'])\n",
    "    clear_output(wait=True)\n",
    "\n",
    "    plt.bar(employe, hours)\n",
    "    plt.show()"
   ]
  },
  {
   "cell_type": "code",
   "execution_count": null,
   "metadata": {
    "collapsed": false,
    "pycharm": {
     "name": "#%%\n"
    }
   },
   "outputs": [],
   "source": [
    "#INVENTORY PER TYPE OF ITEM \n",
    "initSimu()\n",
    "\n",
    "for t in range(100):\n",
    "    initOneStep()\n",
    "\n",
    "    response = requests.get(urlo + \"enterprise/poll/inventory\")\n",
    "    names =[]\n",
    "    quantity =[]\n",
    "\n",
    "    for json in response.json()[\"item_quantities\"] :\n",
    "        #print(json)\n",
    "        names.append((json['item']['name']))\n",
    "        quantity.append(json['quantity'])\n",
    "    clear_output(wait=True)\n",
    "    plt.bar(names, quantity)\n",
    "    plt.show()\n"
   ]
  },
  {
   "cell_type": "code",
   "execution_count": null,
   "metadata": {
    "collapsed": false,
    "pycharm": {
     "is_executing": true,
     "name": "#%%\n"
    }
   },
   "outputs": [],
   "source": [
    "#Total profit (without initial funds)\n",
    "initSimu()\n",
    "\n",
    "graph = v.LineGraph(\"Budget in euro\", x_legend='Hours', y_legend=\"Funds in euro\")\n",
    "requests.post(urlo + \"control/poll/run_one_step\")\n",
    "url = urlo + \"enterprise/poll/inventory\"\n",
    "initialAmount = requests.get(url, stream=True).json()[\"funds_in_eur\"]\n",
    "for i in range(100):\n",
    "    requests.post(urlo + \"control/poll/run_one_step\")\n",
    "    t += 1\n",
    "    x = requests.get(url, stream=True).json()[\"funds_in_eur\"]\n",
    "    graph.addPoint(t, x - initialAmount)"
   ]
  },
  {
   "cell_type": "code",
   "execution_count": null,
   "metadata": {
    "collapsed": false,
    "pycharm": {
     "name": "#%%\n"
    }
   },
   "outputs": [],
   "source": [
    "#Total profit from start of simulation (Without initial funds) per hour worked per employee\n",
    "initSimu()\n",
    "\n",
    "response = requests.get(urlo + \"enterprise/poll/inventory\")\n",
    "initialAmount = response.json()[\"funds_in_eur\"]\n",
    "employe = []\n",
    "profitH = []\n",
    "hours = {}\n",
    "\n",
    "\n",
    "response = requests.get(urlo + \"enterprise/poll/employee\")\n",
    "for json in response.json() :\n",
    "    employe += [(json['name'])]\n",
    "    hours[(json['name'])] = 1\n",
    "\n",
    "graph = v.MultipleLineGraph(employe, 'Total profit per hours per employe', x_legend = 'Hours', y_legend='Total profit per hours')\n",
    "\n",
    "for t in range(1,100):\n",
    "    initOneStep()   \n",
    "\n",
    "    #Total profit\n",
    "    response = requests.get(urlo + \"enterprise/poll/inventory\")\n",
    "    profit = response.json()[\"funds_in_eur\"] - initialAmount\n",
    "\n",
    "    #Hours worked\n",
    "    response = requests.get(urlo + \"enterprise/poll/employee\")\n",
    "    for json in response.json() :\n",
    "        if json['remaining_sickness_in_hours_worked'] == 0:\n",
    "            hours[(json['name'])] += 1\n",
    "    \n",
    "    #Total profit per hours\n",
    "    profitH = []\n",
    "    for ele in employe :\n",
    "        profitH += [profit/hours[ele]]\n",
    "    \n",
    "    graph.addPoint(t, profitH)\n"
   ]
  },
  {
   "cell_type": "code",
   "execution_count": null,
   "metadata": {},
   "outputs": [],
   "source": [
    "#SnapShot Funds in euro\n",
    "\n",
    "def funds(step):\n",
    "    initSimu()\n",
    "    for i in range(step):\n",
    "        requests.post( urlo+ \"control/poll/run_one_step\")\n",
    "    \n",
    "    url = urlo + \"enterprise/poll/inventory\"\n",
    "    response = requests.get(url, stream=True)   \n",
    "    x = response.json()[\"funds_in_eur\"]\n",
    "    plt.clf()\n",
    "    plt.bar(\"Current funds\", x)\n",
    "    plt.show()\n",
    "    \n",
    "\n",
    "funds(10)"
   ]
  },
  {
   "cell_type": "code",
   "execution_count": null,
   "metadata": {},
   "outputs": [],
   "source": [
    "#Snapshot Percentabe Healthy\n",
    "\n",
    "def perHealth(t:int, sim_id: str) :\n",
    "    initSimu()\n",
    "    for i in range(t):\n",
    "        initOneStep()\n",
    "    \n",
    "\n",
    "    employe = 0\n",
    "    nb_health = 0\n",
    "    response = requests.get(urlo + \"enterprise/poll/employee\")\n",
    "    for json in response.json() :\n",
    "        employe += 1\n",
    "        if json['remaining_sickness_in_hours_worked'] == 0:\n",
    "            nb_health += 1\n",
    "    \n",
    "    percentage = [nb_health, employe-nb_health]\n",
    "    labels = ['Healthy People', 'Sick People']\n",
    "    plt.pie(percentage, labels=labels,autopct='%.2f%%')\n",
    "    plt.show()\n",
    "\n",
    "\n",
    "perHealth(10, \"sim2\")"
   ]
  },
  {
   "cell_type": "code",
   "execution_count": null,
   "metadata": {},
   "outputs": [],
   "source": [
    "# 2.1 Composite plot\n",
    "# URLS\n",
    "urlo = \"https://entersim.bloctave.fr/\"\n",
    "teamName = \"T1\"\n",
    "url = f'https://entersim.bloctave.fr/control/poll/create_from_example_sim4/{teamName}'\n",
    "\n",
    "sampleUrl = \"https://entersim2.bloctave.fr/enterprise/poll/inventory\"\n",
    "\n",
    "def runOneStep() :\n",
    "    requests.post( urlo+ \"control/poll/run_one_step\")\n",
    "\n",
    "def getPoll(url) :\n",
    "    return requests.get(urlo + \"enterprise/poll/\"+url)\n",
    "\n",
    "def init(runstep=True):\n",
    "    response = requests.post(url)\n",
    "    print(response)\n",
    "    if runstep :\n",
    "        runOneStep()\n",
    "\n",
    "def getFunds():\n",
    "    response = getPoll('inventory').json()\n",
    "    return response['funds_in_eur']\n",
    "\n",
    "init()\n",
    "\n",
    "T = []\n",
    "F = []\n",
    "P = []\n",
    "\n",
    "fig, axs = plt.subplots(2)\n",
    "\n",
    "prevFunds=None\n",
    "for i in range(100):\n",
    "    T.append(i)\n",
    "    #1.FUNDS\n",
    "    currFunds = getFunds()\n",
    "    F.append(currFunds)\n",
    "    #2.PROFIT\n",
    "    if prevFunds==None :prevFunds=currFunds\n",
    "    P.append(currFunds-prevFunds)\n",
    "    prevFunds=currFunds\n",
    "\n",
    "    \n",
    "    axs[0].plot(T,F)\n",
    "    axs[1].plot(T,P)\n",
    "\n",
    "    clear_output(wait=True)\n"
   ]
  }
 ],
 "metadata": {
  "kernelspec": {
   "display_name": "Python 3.10.0 ('si_venv': venv)",
   "language": "python",
   "name": "python3"
  },
  "language_info": {
   "codemirror_mode": {
    "name": "ipython",
    "version": 3
   },
   "file_extension": ".py",
   "mimetype": "text/x-python",
   "name": "python",
   "nbconvert_exporter": "python",
   "pygments_lexer": "ipython3",
   "version": "3.10.0"
  },
  "orig_nbformat": 4,
  "vscode": {
   "interpreter": {
    "hash": "e3cc998d280d1210a11519faa36c5e1d2ce4a62f67cf31f5ae8953d7edecb9d0"
   }
  }
 },
 "nbformat": 4,
 "nbformat_minor": 2
}
