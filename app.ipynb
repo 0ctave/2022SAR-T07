{
 "cells": [
  {
   "cell_type": "code",
   "execution_count": 13,
   "metadata": {},
   "outputs": [
    {
     "name": "stdout",
     "output_type": "stream",
     "text": [
      "<Response [201]>\n"
     ]
    }
   ],
   "source": [
    "import requests\n",
    "import visualisationGlock as v\n",
    "import json\n",
    "import matplotlib as plt\n",
    "from IPython.display import clear_output\n",
    "\n",
    "PORT=8000\n",
    "sim_id = \"sim1\"\n",
    "url = f'http://127.0.0.1:{PORT}/control/poll/create_from_example/{sim_id}'\n",
    "response = requests.post(url)\n",
    "print(response)"
   ]
  },
  {
   "cell_type": "code",
   "execution_count": 24,
   "metadata": {},
   "outputs": [
    {
     "ename": "TypeError",
     "evalue": "__init__() got an unexpected keyword argument 'x'",
     "output_type": "error",
     "traceback": [
      "\u001b[1;31m---------------------------------------------------------------------------\u001b[0m",
      "\u001b[1;31mTypeError\u001b[0m                                 Traceback (most recent call last)",
      "\u001b[1;32mc:\\Users\\Khéo\\OneDrive\\IMT\\A1\\Cours\\SAR\\Dépot\\2022SAR-T07\\app.ipynb Cell 2'\u001b[0m in \u001b[0;36m<cell line: 4>\u001b[1;34m()\u001b[0m\n\u001b[0;32m      <a href='vscode-notebook-cell:/c%3A/Users/Kh%C3%A9o/OneDrive/IMT/A1/Cours/SAR/D%C3%A9pot/2022SAR-T07/app.ipynb#ch0000002?line=1'>2</a>\u001b[0m response \u001b[39m=\u001b[39m requests\u001b[39m.\u001b[39mget(url, stream\u001b[39m=\u001b[39m\u001b[39mTrue\u001b[39;00m)\n\u001b[0;32m      <a href='vscode-notebook-cell:/c%3A/Users/Kh%C3%A9o/OneDrive/IMT/A1/Cours/SAR/D%C3%A9pot/2022SAR-T07/app.ipynb#ch0000002?line=2'>3</a>\u001b[0m t \u001b[39m=\u001b[39m \u001b[39m0\u001b[39m\n\u001b[1;32m----> <a href='vscode-notebook-cell:/c%3A/Users/Kh%C3%A9o/OneDrive/IMT/A1/Cours/SAR/D%C3%A9pot/2022SAR-T07/app.ipynb#ch0000002?line=3'>4</a>\u001b[0m graph \u001b[39m=\u001b[39m v\u001b[39m.\u001b[39;49mLineGraph(\u001b[39m\"\u001b[39;49m\u001b[39mFunds in euro\u001b[39;49m\u001b[39m\"\u001b[39;49m, x\u001b[39m=\u001b[39;49m\u001b[39m'\u001b[39;49m\u001b[39mHours\u001b[39;49m\u001b[39m'\u001b[39;49m, y\u001b[39m=\u001b[39;49m\u001b[39m\"\u001b[39;49m\u001b[39mFunds in euro\u001b[39;49m\u001b[39m\"\u001b[39;49m)\n\u001b[0;32m      <a href='vscode-notebook-cell:/c%3A/Users/Kh%C3%A9o/OneDrive/IMT/A1/Cours/SAR/D%C3%A9pot/2022SAR-T07/app.ipynb#ch0000002?line=4'>5</a>\u001b[0m \u001b[39mfor\u001b[39;00m line \u001b[39min\u001b[39;00m response\u001b[39m.\u001b[39miter_lines():\n\u001b[0;32m      <a href='vscode-notebook-cell:/c%3A/Users/Kh%C3%A9o/OneDrive/IMT/A1/Cours/SAR/D%C3%A9pot/2022SAR-T07/app.ipynb#ch0000002?line=5'>6</a>\u001b[0m     \u001b[39mif\u001b[39;00m line:\n",
      "\u001b[1;31mTypeError\u001b[0m: __init__() got an unexpected keyword argument 'x'"
     ]
    }
   ],
   "source": [
    "url = f'http://127.0.0.1:{PORT}/random_number?count=40'\n",
    "response = requests.get(url, stream=True)\n",
    "t = 0\n",
    "graph = v.LineGraph(\"Funds in euro\", x_legend='Hours', y_legend=\"Funds in euro\")\n",
    "for line in response.iter_lines():\n",
    "    if line:\n",
    "        t += 1\n",
    "        decoded_line = line.decode('utf-8')\n",
    "        jresponse = json.loads(decoded_line)\n",
    "        \n",
    "        x = jresponse[\"funds_in_eur\"]\n",
    "\n",
    "        graph.addPoint(t,x)"
   ]
  }
 ],
 "metadata": {
  "interpreter": {
   "hash": "5e765dc897edabe91acefeec51563890894a90b7c9130a77fb433a9c74b28dfa"
  },
  "kernelspec": {
   "display_name": "Python 3.9.7 ('sarvenv': venv)",
   "language": "python",
   "name": "python3"
  },
  "language_info": {
   "name": "python",
   "version": "3.9.7"
  },
  "orig_nbformat": 4
 },
 "nbformat": 4,
 "nbformat_minor": 2
}
