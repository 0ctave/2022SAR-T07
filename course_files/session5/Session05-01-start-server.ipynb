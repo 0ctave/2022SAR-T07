{
 "cells": [
  {
   "cell_type": "markdown",
   "metadata": {},
   "source": [
    "Using anaconda navigator install the following packages:\n",
    "\n",
    "- `fastapi` (and any dependencies it will promp you with)\n",
    "- `uvicorn` (and any dependencies it will promp you with)"
   ]
  },
  {
   "cell_type": "markdown",
   "metadata": {},
   "source": [
    "Execute the following command to install tha final depencency: `fastapi-utils`"
   ]
  },
  {
   "cell_type": "code",
   "execution_count": 10,
   "metadata": {},
   "outputs": [
    {
     "name": "stdout",
     "output_type": "stream",
     "text": [
      "Requirement already satisfied: fastapi in c:\\users\\khéo\\onedrive\\imt\\a1\\cours\\sar\\dépot\\sarvenv\\lib\\site-packages (0.78.0)\n",
      "Requirement already satisfied: pydantic!=1.7,!=1.7.1,!=1.7.2,!=1.7.3,!=1.8,!=1.8.1,<2.0.0,>=1.6.2 in c:\\users\\khéo\\onedrive\\imt\\a1\\cours\\sar\\dépot\\sarvenv\\lib\\site-packages (from fastapi) (1.9.1)\n",
      "Requirement already satisfied: starlette==0.19.1 in c:\\users\\khéo\\onedrive\\imt\\a1\\cours\\sar\\dépot\\sarvenv\\lib\\site-packages (from fastapi) (0.19.1)\n",
      "Requirement already satisfied: typing-extensions>=3.10.0 in c:\\users\\khéo\\onedrive\\imt\\a1\\cours\\sar\\dépot\\sarvenv\\lib\\site-packages (from starlette==0.19.1->fastapi) (4.2.0)\n",
      "Requirement already satisfied: anyio<5,>=3.4.0 in c:\\users\\khéo\\onedrive\\imt\\a1\\cours\\sar\\dépot\\sarvenv\\lib\\site-packages (from starlette==0.19.1->fastapi) (3.6.1)\n",
      "Requirement already satisfied: idna>=2.8 in c:\\users\\khéo\\onedrive\\imt\\a1\\cours\\sar\\dépot\\sarvenv\\lib\\site-packages (from anyio<5,>=3.4.0->starlette==0.19.1->fastapi) (3.3)\n",
      "Requirement already satisfied: sniffio>=1.1 in c:\\users\\khéo\\onedrive\\imt\\a1\\cours\\sar\\dépot\\sarvenv\\lib\\site-packages (from anyio<5,>=3.4.0->starlette==0.19.1->fastapi) (1.2.0)\n",
      "Note: you may need to restart the kernel to use updated packages.\n"
     ]
    }
   ],
   "source": [
    "%pip install  fastapi"
   ]
  },
  {
   "cell_type": "code",
   "execution_count": 11,
   "metadata": {},
   "outputs": [
    {
     "name": "stdout",
     "output_type": "stream",
     "text": [
      "Requirement already satisfied: uvicorn in c:\\users\\khéo\\onedrive\\imt\\a1\\cours\\sar\\dépot\\sarvenv\\lib\\site-packages (0.17.6)\n",
      "Requirement already satisfied: asgiref>=3.4.0 in c:\\users\\khéo\\onedrive\\imt\\a1\\cours\\sar\\dépot\\sarvenv\\lib\\site-packages (from uvicorn) (3.5.2)\n",
      "Requirement already satisfied: click>=7.0 in c:\\users\\khéo\\onedrive\\imt\\a1\\cours\\sar\\dépot\\sarvenv\\lib\\site-packages (from uvicorn) (8.1.3)\n",
      "Requirement already satisfied: h11>=0.8 in c:\\users\\khéo\\onedrive\\imt\\a1\\cours\\sar\\dépot\\sarvenv\\lib\\site-packages (from uvicorn) (0.13.0)\n",
      "Requirement already satisfied: colorama in c:\\users\\khéo\\onedrive\\imt\\a1\\cours\\sar\\dépot\\sarvenv\\lib\\site-packages (from click>=7.0->uvicorn) (0.4.4)\n",
      "Note: you may need to restart the kernel to use updated packages.\n"
     ]
    }
   ],
   "source": [
    "%pip install  uvicorn"
   ]
  },
  {
   "cell_type": "code",
   "execution_count": 12,
   "metadata": {},
   "outputs": [
    {
     "name": "stdout",
     "output_type": "stream",
     "text": [
      "Requirement already satisfied: fastapi-utils in c:\\users\\khéo\\onedrive\\imt\\a1\\cours\\sar\\dépot\\sarvenv\\lib\\site-packages (0.2.1)\n",
      "Requirement already satisfied: sqlalchemy<2.0.0,>=1.3.12 in c:\\users\\khéo\\onedrive\\imt\\a1\\cours\\sar\\dépot\\sarvenv\\lib\\site-packages (from fastapi-utils) (1.4.37)\n",
      "Requirement already satisfied: pydantic<2.0,>=1.0 in c:\\users\\khéo\\onedrive\\imt\\a1\\cours\\sar\\dépot\\sarvenv\\lib\\site-packages (from fastapi-utils) (1.9.1)\n",
      "Requirement already satisfied: fastapi in c:\\users\\khéo\\onedrive\\imt\\a1\\cours\\sar\\dépot\\sarvenv\\lib\\site-packages (from fastapi-utils) (0.78.0)\n",
      "Requirement already satisfied: typing-extensions>=3.7.4.3 in c:\\users\\khéo\\onedrive\\imt\\a1\\cours\\sar\\dépot\\sarvenv\\lib\\site-packages (from pydantic<2.0,>=1.0->fastapi-utils) (4.2.0)\n",
      "Requirement already satisfied: greenlet!=0.4.17 in c:\\users\\khéo\\onedrive\\imt\\a1\\cours\\sar\\dépot\\sarvenv\\lib\\site-packages (from sqlalchemy<2.0.0,>=1.3.12->fastapi-utils) (1.1.2)\n",
      "Requirement already satisfied: starlette==0.19.1 in c:\\users\\khéo\\onedrive\\imt\\a1\\cours\\sar\\dépot\\sarvenv\\lib\\site-packages (from fastapi->fastapi-utils) (0.19.1)\n",
      "Requirement already satisfied: anyio<5,>=3.4.0 in c:\\users\\khéo\\onedrive\\imt\\a1\\cours\\sar\\dépot\\sarvenv\\lib\\site-packages (from starlette==0.19.1->fastapi->fastapi-utils) (3.6.1)\n",
      "Requirement already satisfied: sniffio>=1.1 in c:\\users\\khéo\\onedrive\\imt\\a1\\cours\\sar\\dépot\\sarvenv\\lib\\site-packages (from anyio<5,>=3.4.0->starlette==0.19.1->fastapi->fastapi-utils) (1.2.0)\n",
      "Requirement already satisfied: idna>=2.8 in c:\\users\\khéo\\onedrive\\imt\\a1\\cours\\sar\\dépot\\sarvenv\\lib\\site-packages (from anyio<5,>=3.4.0->starlette==0.19.1->fastapi->fastapi-utils) (3.3)\n",
      "Note: you may need to restart the kernel to use updated packages.\n"
     ]
    }
   ],
   "source": [
    "%pip install fastapi-utils"
   ]
  },
  {
   "cell_type": "code",
   "execution_count": 13,
   "metadata": {},
   "outputs": [
    {
     "name": "stdout",
     "output_type": "stream",
     "text": [
      "Requirement already satisfied: nest_asyncio in c:\\users\\khéo\\onedrive\\imt\\a1\\cours\\sar\\dépot\\sarvenv\\lib\\site-packages (1.5.5)\n",
      "Note: you may need to restart the kernel to use updated packages.\n"
     ]
    }
   ],
   "source": [
    "%pip install nest_asyncio"
   ]
  },
  {
   "cell_type": "code",
   "execution_count": 14,
   "metadata": {},
   "outputs": [],
   "source": [
    "# test import\n",
    "import entersim.sim.examples.enterprise_example1 as ex1"
   ]
  },
  {
   "cell_type": "markdown",
   "metadata": {},
   "source": [
    "Run the below command to start the server.\n",
    "\n",
    "There is automatically generated documentation on http://127.0.0.1:8000/docs after the server starts.\n",
    "\n",
    "In another jupyter notebook interact with the server.\n",
    "\n",
    "Stop the execution of this cell (command \"Interrupt the kernel\") to stop the server and re-run the cell to restart it, if needed."
   ]
  },
  {
   "cell_type": "code",
   "execution_count": 15,
   "metadata": {},
   "outputs": [
    {
     "name": "stderr",
     "output_type": "stream",
     "text": [
      "INFO:     Started server process [9276]\n",
      "INFO:     Waiting for application startup.\n",
      "INFO:     Application startup complete.\n",
      "INFO:     Uvicorn running on http://127.0.0.1:8000 (Press CTRL+C to quit)\n",
      "INFO:     Shutting down\n",
      "INFO:     Waiting for application shutdown.\n",
      "INFO:     Application shutdown complete.\n",
      "INFO:     Finished server process [9276]\n"
     ]
    }
   ],
   "source": [
    "import uvicorn\n",
    "\n",
    "# import asyncio\n",
    "import nest_asyncio\n",
    "nest_asyncio.apply()\n",
    "\n",
    "uvicorn.run(\"entersim.api.server:app\", host=\"127.0.0.1\", port=8000, log_level=\"info\")"
   ]
  },
  {
   "cell_type": "code",
   "execution_count": null,
   "metadata": {},
   "outputs": [],
   "source": []
  }
 ],
 "metadata": {
  "interpreter": {
   "hash": "5e765dc897edabe91acefeec51563890894a90b7c9130a77fb433a9c74b28dfa"
  },
  "kernelspec": {
   "display_name": "Python 3.9.7 ('sarvenv': venv)",
   "language": "python",
   "name": "python3"
  },
  "language_info": {
   "codemirror_mode": {
    "name": "ipython",
    "version": 3
   },
   "file_extension": ".py",
   "mimetype": "text/x-python",
   "name": "python",
   "nbconvert_exporter": "python",
   "pygments_lexer": "ipython3",
   "version": "3.9.7"
  }
 },
 "nbformat": 4,
 "nbformat_minor": 4
}
