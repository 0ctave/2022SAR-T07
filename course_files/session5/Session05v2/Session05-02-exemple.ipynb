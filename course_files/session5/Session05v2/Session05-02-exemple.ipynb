{
 "cells": [
  {
   "cell_type": "code",
   "execution_count": null,
   "metadata": {
    "collapsed": false,
    "jupyter": {
     "outputs_hidden": false
    },
    "pycharm": {
     "name": "#%%\n"
    }
   },
   "outputs": [],
   "source": [
    "PORT = 8000\n",
    "\n",
    "import requests\n",
    "\n",
    "import time\n",
    "import matplotlib.pyplot as plt\n",
    "from IPython.display import clear_output\n",
    "\n",
    "# Make a request to create a new simulation\n",
    "def init():\n",
    "    url = f'http://127.0.0.1:{PORT}/control/poll/create_from_example/sim1'\n",
    "    response = requests.post(url)\n",
    "    if response.status_code == requests.codes.ok:\n",
    "        jresponse = response.json()\n",
    "        print(f\"Next Step\")\n",
    "\n",
    "# Make a request to run one step\n",
    "def next_step():\n",
    "    url = f'http://127.0.0.1:{PORT}/control/poll/run_one_step'\n",
    "    response = requests.post(url)\n",
    "    if response.status_code == requests.codes.ok:\n",
    "        jresponse = response.json()\n",
    "        print(f\"Next Step\")\n",
    "\n",
    "# Make a request to get the current funds available\n",
    "def get_next_point():\n",
    "    url = f'http://127.0.0.1:{PORT}/enterprise/poll/inventory'\n",
    "    response = requests.get(url)\n",
    "    if response.status_code == requests.codes.ok:\n",
    "        jresponse = response.json()\n",
    "        print(f\"Funds : {jresponse['funds_in_eur']}\")\n",
    "        return jresponse['funds_in_eur']\n",
    "    else:\n",
    "        return None\n",
    "\n",
    "# List holding the x values\n",
    "data_x = []\n",
    "# List holding the y values\n",
    "data_y = []\n",
    "\n",
    "# Create sim\n",
    "init()\n",
    "\n",
    "for x in range(0, 30):\n",
    "    next_step() # Do one step\n",
    "    y = get_next_point() # Request a new random value and store in y\n",
    "\n",
    "    data_x.append(x)  # Add the current x to the list\n",
    "    data_y.append(y) # Add the current y to the list\n",
    "\n",
    "    clear_output(wait=True) # Clear / remove whatever was already plotted before\n",
    "    plt.plot(data_x, data_y) # Re-plot the data with the new added values in the list\n",
    "    plt.show() # Make sure to display the new plot, to make it visible\n",
    "    time.sleep(0.1) # Wait 0.1 seconds before the next request\n",
    "\n"
   ]
  },
  {
   "cell_type": "code",
   "execution_count": null,
   "metadata": {},
   "outputs": [],
   "source": []
  }
 ],
 "metadata": {
  "kernelspec": {
   "display_name": "Python 3",
   "language": "python",
   "name": "python3"
  },
  "language_info": {
   "codemirror_mode": {
    "name": "ipython",
    "version": 3
   },
   "file_extension": ".py",
   "mimetype": "text/x-python",
   "name": "python",
   "nbconvert_exporter": "python",
   "pygments_lexer": "ipython3",
   "version": "3.8.5"
  }
 },
 "nbformat": 4,
 "nbformat_minor": 4
}
