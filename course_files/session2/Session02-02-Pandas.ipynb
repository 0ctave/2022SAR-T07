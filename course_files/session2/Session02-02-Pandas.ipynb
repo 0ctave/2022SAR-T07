{
 "cells": [
  {
   "cell_type": "markdown",
   "metadata": {
    "slideshow": {
     "slide_type": "slide"
    }
   },
   "source": [
    "Do any necessary initialisation"
   ]
  },
  {
   "cell_type": "code",
   "execution_count": null,
   "metadata": {
    "slideshow": {
     "slide_type": "fragment"
    }
   },
   "outputs": [],
   "source": [
    "\n"
   ]
  },
  {
   "cell_type": "markdown",
   "metadata": {
    "slideshow": {
     "slide_type": "slide"
    }
   },
   "source": [
    "Load the xyz.csv file from https://gist.githubusercontent.com/ariskou/6441e960da38d395b1305e9d388f92d5/raw/62c459a79631efb35ca7000c3fcdf66d2f4a2cc5/xyz.csv: "
   ]
  },
  {
   "cell_type": "code",
   "execution_count": null,
   "metadata": {
    "slideshow": {
     "slide_type": "fragment"
    }
   },
   "outputs": [],
   "source": []
  },
  {
   "cell_type": "markdown",
   "metadata": {
    "slideshow": {
     "slide_type": "-"
    }
   },
   "source": [
    "Print the first 3 rows"
   ]
  },
  {
   "cell_type": "code",
   "execution_count": null,
   "metadata": {
    "scrolled": true,
    "slideshow": {
     "slide_type": "fragment"
    }
   },
   "outputs": [],
   "source": []
  },
  {
   "cell_type": "markdown",
   "metadata": {},
   "source": [
    "Print the last 3 rows"
   ]
  },
  {
   "cell_type": "code",
   "execution_count": null,
   "metadata": {},
   "outputs": [],
   "source": []
  },
  {
   "cell_type": "markdown",
   "metadata": {},
   "source": [
    "## Answer the following questions"
   ]
  },
  {
   "cell_type": "markdown",
   "metadata": {
    "slideshow": {
     "slide_type": "-"
    }
   },
   "source": [
    "1. What are the following values for columns `x` and `y` (but **not** `z`): \n",
    "* minimum\n",
    "* 5th percentile\n",
    "* 25th percentile (also known as 1st quartile)\n",
    "* median (also known as 2nd quartile or 50th percentile)\n",
    "* 75th percentile (also known as 3rd quartile)\n",
    "* 95th percentile\n",
    "* maximum"
   ]
  },
  {
   "cell_type": "code",
   "execution_count": null,
   "metadata": {},
   "outputs": [],
   "source": []
  },
  {
   "cell_type": "markdown",
   "metadata": {},
   "source": [
    "2. Create a new column named `w` which is the product of the values of `x` and `y`. Print the first 5 rows of the data."
   ]
  },
  {
   "cell_type": "code",
   "execution_count": null,
   "metadata": {},
   "outputs": [],
   "source": []
  },
  {
   "cell_type": "markdown",
   "metadata": {},
   "source": [
    "3. Find the number of rows where the value of `w` is within one standard deviation from the mean of `w` **AND** where the value of `z` is within (smaller or equal) half a standard deviation from the mean of `z`.\n",
    "\n",
    "Use the smaller or equal operator (`<=`) for the comparisons."
   ]
  },
  {
   "cell_type": "code",
   "execution_count": null,
   "metadata": {},
   "outputs": [],
   "source": []
  },
  {
   "cell_type": "code",
   "execution_count": null,
   "metadata": {},
   "outputs": [],
   "source": []
  },
  {
   "cell_type": "markdown",
   "metadata": {},
   "source": [
    "4. Create a new column named `\"devs\"` with possible values one of:\n",
    "* `\"four\"`, \n",
    "* `\"two\"`, or \n",
    "* `\"one\"` \n",
    "\n",
    "The value corresponds to whether the value of `w` (in the same row) is within 4, 2, or 1 standard deviations from the mean of `w`.\n",
    "\n",
    "Use the smaller or equal operator (`<=`) for the comparisons.\n",
    "\n",
    "What is the **maximum** of the values of `x` in categories `\"one\"` and `\"two\"`?\n"
   ]
  },
  {
   "cell_type": "code",
   "execution_count": null,
   "metadata": {},
   "outputs": [],
   "source": []
  }
 ],
 "metadata": {
  "anaconda-cloud": {},
  "celltoolbar": "Slideshow",
  "kernelspec": {
   "display_name": "Python 3",
   "language": "python",
   "name": "python3"
  },
  "language_info": {
   "codemirror_mode": {
    "name": "ipython",
    "version": 3
   },
   "file_extension": ".py",
   "mimetype": "text/x-python",
   "name": "python",
   "nbconvert_exporter": "python",
   "pygments_lexer": "ipython3",
   "version": "3.8.5"
  }
 },
 "nbformat": 4,
 "nbformat_minor": 4
}
