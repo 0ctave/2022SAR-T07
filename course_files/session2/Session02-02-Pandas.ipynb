{
 "cells": [
  {
   "cell_type": "markdown",
   "metadata": {
    "slideshow": {
     "slide_type": "slide"
    }
   },
   "source": [
    "Do any necessary initialisation"
   ]
  },
  {
   "cell_type": "code",
   "execution_count": 1,
   "metadata": {
    "slideshow": {
     "slide_type": "fragment"
    }
   },
   "outputs": [],
   "source": [
    "import pandas as pd\n"
   ]
  },
  {
   "cell_type": "markdown",
   "metadata": {
    "slideshow": {
     "slide_type": "slide"
    }
   },
   "source": [
    "Load the xyz.csv file from https://gist.githubusercontent.com/ariskou/6441e960da38d395b1305e9d388f92d5/raw/62c459a79631efb35ca7000c3fcdf66d2f4a2cc5/xyz.csv: "
   ]
  },
  {
   "cell_type": "code",
   "execution_count": 2,
   "metadata": {
    "slideshow": {
     "slide_type": "fragment"
    }
   },
   "outputs": [],
   "source": [
    "df_remote = pd.read_csv(r'https://gist.githubusercontent.com/ariskou/6441e960da38d395b1305e9d388f92d5/raw/62c459a79631efb35ca7000c3fcdf66d2f4a2cc5/xyz.csv')"
   ]
  },
  {
   "cell_type": "markdown",
   "metadata": {
    "slideshow": {
     "slide_type": "-"
    }
   },
   "source": [
    "Print the first 3 rows"
   ]
  },
  {
   "cell_type": "code",
   "execution_count": 3,
   "metadata": {
    "scrolled": true,
    "slideshow": {
     "slide_type": "fragment"
    }
   },
   "outputs": [
    {
     "data": {
      "text/html": [
       "<div>\n",
       "<style scoped>\n",
       "    .dataframe tbody tr th:only-of-type {\n",
       "        vertical-align: middle;\n",
       "    }\n",
       "\n",
       "    .dataframe tbody tr th {\n",
       "        vertical-align: top;\n",
       "    }\n",
       "\n",
       "    .dataframe thead th {\n",
       "        text-align: right;\n",
       "    }\n",
       "</style>\n",
       "<table border=\"1\" class=\"dataframe\">\n",
       "  <thead>\n",
       "    <tr style=\"text-align: right;\">\n",
       "      <th></th>\n",
       "      <th>x</th>\n",
       "      <th>y</th>\n",
       "      <th>z</th>\n",
       "    </tr>\n",
       "  </thead>\n",
       "  <tbody>\n",
       "    <tr>\n",
       "      <th>0</th>\n",
       "      <td>174.23</td>\n",
       "      <td>294.59</td>\n",
       "      <td>50206.23</td>\n",
       "    </tr>\n",
       "    <tr>\n",
       "      <th>1</th>\n",
       "      <td>176.34</td>\n",
       "      <td>264.83</td>\n",
       "      <td>53170.51</td>\n",
       "    </tr>\n",
       "    <tr>\n",
       "      <th>2</th>\n",
       "      <td>171.09</td>\n",
       "      <td>250.23</td>\n",
       "      <td>43880.04</td>\n",
       "    </tr>\n",
       "  </tbody>\n",
       "</table>\n",
       "</div>"
      ],
      "text/plain": [
       "        x       y         z\n",
       "0  174.23  294.59  50206.23\n",
       "1  176.34  264.83  53170.51\n",
       "2  171.09  250.23  43880.04"
      ]
     },
     "execution_count": 3,
     "metadata": {},
     "output_type": "execute_result"
    }
   ],
   "source": [
    "df_remote.head(3)"
   ]
  },
  {
   "cell_type": "markdown",
   "metadata": {},
   "source": [
    "Print the last 3 rows"
   ]
  },
  {
   "cell_type": "code",
   "execution_count": 5,
   "metadata": {},
   "outputs": [
    {
     "data": {
      "text/html": [
       "<div>\n",
       "<style scoped>\n",
       "    .dataframe tbody tr th:only-of-type {\n",
       "        vertical-align: middle;\n",
       "    }\n",
       "\n",
       "    .dataframe tbody tr th {\n",
       "        vertical-align: top;\n",
       "    }\n",
       "\n",
       "    .dataframe thead th {\n",
       "        text-align: right;\n",
       "    }\n",
       "</style>\n",
       "<table border=\"1\" class=\"dataframe\">\n",
       "  <thead>\n",
       "    <tr style=\"text-align: right;\">\n",
       "      <th></th>\n",
       "      <th>x</th>\n",
       "      <th>y</th>\n",
       "      <th>z</th>\n",
       "    </tr>\n",
       "  </thead>\n",
       "  <tbody>\n",
       "    <tr>\n",
       "      <th>297</th>\n",
       "      <td>156.70</td>\n",
       "      <td>306.50</td>\n",
       "      <td>71229.91</td>\n",
       "    </tr>\n",
       "    <tr>\n",
       "      <th>298</th>\n",
       "      <td>176.74</td>\n",
       "      <td>218.54</td>\n",
       "      <td>40177.42</td>\n",
       "    </tr>\n",
       "    <tr>\n",
       "      <th>299</th>\n",
       "      <td>197.35</td>\n",
       "      <td>354.90</td>\n",
       "      <td>70886.47</td>\n",
       "    </tr>\n",
       "  </tbody>\n",
       "</table>\n",
       "</div>"
      ],
      "text/plain": [
       "          x       y         z\n",
       "297  156.70  306.50  71229.91\n",
       "298  176.74  218.54  40177.42\n",
       "299  197.35  354.90  70886.47"
      ]
     },
     "execution_count": 5,
     "metadata": {},
     "output_type": "execute_result"
    }
   ],
   "source": [
    "df_remote.tail(3)"
   ]
  },
  {
   "cell_type": "markdown",
   "metadata": {},
   "source": [
    "## Answer the following questions"
   ]
  },
  {
   "cell_type": "markdown",
   "metadata": {
    "slideshow": {
     "slide_type": "-"
    }
   },
   "source": [
    "1. What are the following values for columns `x` and `y` (but **not** `z`): \n",
    "* minimum\n",
    "* 5th percentile\n",
    "* 25th percentile (also known as 1st quartile)\n",
    "* median (also known as 2nd quartile or 50th percentile)\n",
    "* 75th percentile (also known as 3rd quartile)\n",
    "* 95th percentile\n",
    "* maximum"
   ]
  },
  {
   "cell_type": "code",
   "execution_count": 12,
   "metadata": {},
   "outputs": [
    {
     "name": "stdout",
     "output_type": "stream",
     "text": [
      "X\n",
      "150.17\n",
      "157.8365\n",
      "167.915\n",
      "175.325\n",
      "183.3325\n",
      "192.73100000000002\n",
      "211.48\n",
      "Y\n",
      "33.35\n",
      "140.713\n",
      "233.57\n",
      "298.83000000000004\n",
      "373.505\n",
      "470.84950000000003\n",
      "635.08\n"
     ]
    }
   ],
   "source": [
    "print('X')\n",
    "print(df_remote.x.min())\n",
    "print(df_remote.x.quantile(0.05))\n",
    "print(df_remote.x.quantile(0.25))\n",
    "print(df_remote.x.median())\n",
    "print(df_remote.x.quantile(0.75))\n",
    "print(df_remote.x.quantile(0.95))\n",
    "print(df_remote.x.max())\n",
    "\n",
    "\n",
    "print('Y')\n",
    "print(df_remote.y.min())\n",
    "print(df_remote.y.quantile(0.05))\n",
    "print(df_remote.y.quantile(0.25))\n",
    "print(df_remote.y.median())\n",
    "print(df_remote.y.quantile(0.75))\n",
    "print(df_remote.y.quantile(0.95))\n",
    "print(df_remote.y.max())\n"
   ]
  },
  {
   "cell_type": "markdown",
   "metadata": {},
   "source": [
    "2. Create a new column named `w` which is the product of the values of `x` and `y`. Print the first 5 rows of the data."
   ]
  },
  {
   "cell_type": "code",
   "execution_count": 15,
   "metadata": {},
   "outputs": [
    {
     "data": {
      "text/html": [
       "<div>\n",
       "<style scoped>\n",
       "    .dataframe tbody tr th:only-of-type {\n",
       "        vertical-align: middle;\n",
       "    }\n",
       "\n",
       "    .dataframe tbody tr th {\n",
       "        vertical-align: top;\n",
       "    }\n",
       "\n",
       "    .dataframe thead th {\n",
       "        text-align: right;\n",
       "    }\n",
       "</style>\n",
       "<table border=\"1\" class=\"dataframe\">\n",
       "  <thead>\n",
       "    <tr style=\"text-align: right;\">\n",
       "      <th></th>\n",
       "      <th>x</th>\n",
       "      <th>y</th>\n",
       "      <th>z</th>\n",
       "      <th>w</th>\n",
       "    </tr>\n",
       "  </thead>\n",
       "  <tbody>\n",
       "    <tr>\n",
       "      <th>0</th>\n",
       "      <td>174.23</td>\n",
       "      <td>294.59</td>\n",
       "      <td>50206.23</td>\n",
       "      <td>51326.4157</td>\n",
       "    </tr>\n",
       "    <tr>\n",
       "      <th>1</th>\n",
       "      <td>176.34</td>\n",
       "      <td>264.83</td>\n",
       "      <td>53170.51</td>\n",
       "      <td>46700.1222</td>\n",
       "    </tr>\n",
       "    <tr>\n",
       "      <th>2</th>\n",
       "      <td>171.09</td>\n",
       "      <td>250.23</td>\n",
       "      <td>43880.04</td>\n",
       "      <td>42811.8507</td>\n",
       "    </tr>\n",
       "    <tr>\n",
       "      <th>3</th>\n",
       "      <td>169.74</td>\n",
       "      <td>216.75</td>\n",
       "      <td>51461.05</td>\n",
       "      <td>36791.1450</td>\n",
       "    </tr>\n",
       "    <tr>\n",
       "      <th>4</th>\n",
       "      <td>178.72</td>\n",
       "      <td>392.96</td>\n",
       "      <td>51301.86</td>\n",
       "      <td>70229.8112</td>\n",
       "    </tr>\n",
       "  </tbody>\n",
       "</table>\n",
       "</div>"
      ],
      "text/plain": [
       "        x       y         z           w\n",
       "0  174.23  294.59  50206.23  51326.4157\n",
       "1  176.34  264.83  53170.51  46700.1222\n",
       "2  171.09  250.23  43880.04  42811.8507\n",
       "3  169.74  216.75  51461.05  36791.1450\n",
       "4  178.72  392.96  51301.86  70229.8112"
      ]
     },
     "execution_count": 15,
     "metadata": {},
     "output_type": "execute_result"
    }
   ],
   "source": [
    "df_remote['w'] = df_remote.x*df_remote.y\n",
    "df_remote.head()"
   ]
  },
  {
   "cell_type": "markdown",
   "metadata": {},
   "source": [
    "3. Find the number of rows where the value of `w` is within one standard deviation from the mean of `w` **AND** where the value of `z` is within (smaller or equal) half a standard deviation from the mean of `z`.\n",
    "\n",
    "Use the smaller or equal operator (`<=`) for the comparisons."
   ]
  },
  {
   "cell_type": "code",
   "execution_count": 24,
   "metadata": {},
   "outputs": [
    {
     "data": {
      "text/html": [
       "<div>\n",
       "<style scoped>\n",
       "    .dataframe tbody tr th:only-of-type {\n",
       "        vertical-align: middle;\n",
       "    }\n",
       "\n",
       "    .dataframe tbody tr th {\n",
       "        vertical-align: top;\n",
       "    }\n",
       "\n",
       "    .dataframe thead th {\n",
       "        text-align: right;\n",
       "    }\n",
       "</style>\n",
       "<table border=\"1\" class=\"dataframe\">\n",
       "  <thead>\n",
       "    <tr style=\"text-align: right;\">\n",
       "      <th></th>\n",
       "      <th>x</th>\n",
       "      <th>y</th>\n",
       "      <th>z</th>\n",
       "      <th>w</th>\n",
       "    </tr>\n",
       "  </thead>\n",
       "  <tbody>\n",
       "    <tr>\n",
       "      <th>0</th>\n",
       "      <td>174.23</td>\n",
       "      <td>294.59</td>\n",
       "      <td>50206.23</td>\n",
       "      <td>51326.4157</td>\n",
       "    </tr>\n",
       "    <tr>\n",
       "      <th>1</th>\n",
       "      <td>176.34</td>\n",
       "      <td>264.83</td>\n",
       "      <td>53170.51</td>\n",
       "      <td>46700.1222</td>\n",
       "    </tr>\n",
       "    <tr>\n",
       "      <th>2</th>\n",
       "      <td>171.09</td>\n",
       "      <td>250.23</td>\n",
       "      <td>43880.04</td>\n",
       "      <td>42811.8507</td>\n",
       "    </tr>\n",
       "    <tr>\n",
       "      <th>3</th>\n",
       "      <td>169.74</td>\n",
       "      <td>216.75</td>\n",
       "      <td>51461.05</td>\n",
       "      <td>36791.1450</td>\n",
       "    </tr>\n",
       "    <tr>\n",
       "      <th>4</th>\n",
       "      <td>178.72</td>\n",
       "      <td>392.96</td>\n",
       "      <td>51301.86</td>\n",
       "      <td>70229.8112</td>\n",
       "    </tr>\n",
       "    <tr>\n",
       "      <th>...</th>\n",
       "      <td>...</td>\n",
       "      <td>...</td>\n",
       "      <td>...</td>\n",
       "      <td>...</td>\n",
       "    </tr>\n",
       "    <tr>\n",
       "      <th>293</th>\n",
       "      <td>177.51</td>\n",
       "      <td>213.20</td>\n",
       "      <td>34671.82</td>\n",
       "      <td>37845.1320</td>\n",
       "    </tr>\n",
       "    <tr>\n",
       "      <th>294</th>\n",
       "      <td>168.49</td>\n",
       "      <td>221.01</td>\n",
       "      <td>48027.08</td>\n",
       "      <td>37237.9749</td>\n",
       "    </tr>\n",
       "    <tr>\n",
       "      <th>295</th>\n",
       "      <td>167.66</td>\n",
       "      <td>344.98</td>\n",
       "      <td>45824.39</td>\n",
       "      <td>57839.3468</td>\n",
       "    </tr>\n",
       "    <tr>\n",
       "      <th>296</th>\n",
       "      <td>182.74</td>\n",
       "      <td>369.94</td>\n",
       "      <td>53377.13</td>\n",
       "      <td>67602.8356</td>\n",
       "    </tr>\n",
       "    <tr>\n",
       "      <th>298</th>\n",
       "      <td>176.74</td>\n",
       "      <td>218.54</td>\n",
       "      <td>40177.42</td>\n",
       "      <td>38624.7596</td>\n",
       "    </tr>\n",
       "  </tbody>\n",
       "</table>\n",
       "<p>175 rows × 4 columns</p>\n",
       "</div>"
      ],
      "text/plain": [
       "          x       y         z           w\n",
       "0    174.23  294.59  50206.23  51326.4157\n",
       "1    176.34  264.83  53170.51  46700.1222\n",
       "2    171.09  250.23  43880.04  42811.8507\n",
       "3    169.74  216.75  51461.05  36791.1450\n",
       "4    178.72  392.96  51301.86  70229.8112\n",
       "..      ...     ...       ...         ...\n",
       "293  177.51  213.20  34671.82  37845.1320\n",
       "294  168.49  221.01  48027.08  37237.9749\n",
       "295  167.66  344.98  45824.39  57839.3468\n",
       "296  182.74  369.94  53377.13  67602.8356\n",
       "298  176.74  218.54  40177.42  38624.7596\n",
       "\n",
       "[175 rows x 4 columns]"
      ]
     },
     "execution_count": 24,
     "metadata": {},
     "output_type": "execute_result"
    }
   ],
   "source": [
    "first = abs((df_remote.w-df_remote.w.std())<=df_remote.w.mean())\n",
    "\n",
    "second = abs((df_remote.z-(df_remote.z.std()/2))<=df_remote.z.mean())\n",
    "\n",
    "final = first & second \n",
    "\n",
    "\n",
    "df_remote[final]\n"
   ]
  },
  {
   "cell_type": "code",
   "execution_count": null,
   "metadata": {},
   "outputs": [],
   "source": []
  },
  {
   "cell_type": "markdown",
   "metadata": {},
   "source": [
    "4. Create a new column named `\"devs\"` with possible values one of:\n",
    "* `\"four\"`, \n",
    "* `\"two\"`, or \n",
    "* `\"one\"` \n",
    "\n",
    "The value corresponds to whether the value of `w` (in the same row) is within 4, 2, or 1 standard deviations from the mean of `w`.\n",
    "\n",
    "Use the smaller or equal operator (`<=`) for the comparisons.\n",
    "\n",
    "What is the **maximum** of the values of `x` in categories `\"one\"` and `\"two\"`?\n"
   ]
  },
  {
   "cell_type": "code",
   "execution_count": 29,
   "metadata": {},
   "outputs": [
    {
     "name": "stdout",
     "output_type": "stream",
     "text": [
      "The maximum value for the four group is 186.24 kg\n",
      "The maximum value for the one group is 211.48 kg\n",
      "The maximum value for the two group is 200.53 kg\n"
     ]
    }
   ],
   "source": [
    "for idx, row in df_remote.iterrows():\n",
    "    if abs(row.w-df_remote.w.std())<=df_remote.w.mean():\n",
    "        df_remote.loc[idx, 'category']='one'\n",
    "    elif abs(row.w-df_remote.w.std()*2)<=df_remote.w.mean():\n",
    "        df_remote.loc[idx, 'category']='two'\n",
    "    elif abs(row.w-df_remote.w.std()*4)<=df_remote.w.mean():\n",
    "        df_remote.loc[idx, 'category']='four'\n",
    "\n",
    "for category, category_data in df_remote.groupby(\"category\"):\n",
    "    print('The maximum value for the {} group is {} kg'.format(category,\n",
    "         category_data.x.max()))"
   ]
  }
 ],
 "metadata": {
  "anaconda-cloud": {},
  "celltoolbar": "Slideshow",
  "interpreter": {
   "hash": "82052c5adeef03b8d52e5206031cdb959c73591348bd6b4d90695b00fcc8cedb"
  },
  "kernelspec": {
   "display_name": "Python 3.9.7 ('si_venv': venv)",
   "language": "python",
   "name": "python3"
  },
  "language_info": {
   "codemirror_mode": {
    "name": "ipython",
    "version": 3
   },
   "file_extension": ".py",
   "mimetype": "text/x-python",
   "name": "python",
   "nbconvert_exporter": "python",
   "pygments_lexer": "ipython3",
   "version": "3.9.7"
  }
 },
 "nbformat": 4,
 "nbformat_minor": 4
}
