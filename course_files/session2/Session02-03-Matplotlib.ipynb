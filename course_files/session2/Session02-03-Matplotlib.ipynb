{
 "cells": [
  {
   "cell_type": "markdown",
   "metadata": {},
   "source": [
    "# Matplotlib tutorial for beginners\n",
    "\n",
    "This notebook presents Matplotlib, the basic data visualization tool of Python programming language. \n",
    "\n",
    "Based on https://www.kaggle.com/prashant111/matplotlib-tutorial-for-beginners\n"
   ]
  },
  {
   "cell_type": "markdown",
   "metadata": {},
   "source": [
    "## 1. Overview\n",
    "\n",
    "\n",
    "This is a brief presentation and overview of **Matplotlib**, which is the basic data visualization tool of Python programming language. \n",
    "\n",
    "Python has different data visualization tools available which are suitable for different purposes:\n",
    "\n",
    "* Seaborn (extenssion of Matplotlib)\n",
    "* Bokeh\n",
    "* Plotly\n",
    "* many others\n"
   ]
  },
  {
   "cell_type": "markdown",
   "metadata": {},
   "source": [
    "## 3. Capabilities\n",
    "\n",
    "Matplotlib can\n",
    "\n",
    "* Export visualizations to all of the common formats like PDF, SVG, JPG, PNG, BMP and GIF\n",
    "* Create popular visualization types – line plot, scatter plot, histogram, bar chart, error charts, pie chart, box plot, and many more types of plot\n",
    "* Create 3D plots\n",
    "* Collaborate with and use pandas DataFrames data directly\n"
   ]
  },
  {
   "cell_type": "markdown",
   "metadata": {},
   "source": [
    "\n",
    "## 4. Import Matplotlib\n",
    "\n",
    "Before, we need to actually start using Matplotlib, we need to import it. We can import Matplotlib as follows:-\n",
    "\n",
    "`import matplotlib`\n",
    "\n",
    "\n",
    "Most of the time, we have to work with **pyplot** interface of Matplotlib. So, I will import **pyplot** interface of Matplotlib as follows:-\n",
    "\n",
    "\n",
    "`import matplotlib.pyplot`\n",
    "\n",
    "\n",
    "To make things even simpler, we will use standard shorthand for Matplotlib imports as follows:-\n",
    "\n",
    "\n",
    "`import matplotlib.pyplot as plt`\n",
    "\n"
   ]
  },
  {
   "cell_type": "code",
   "execution_count": null,
   "metadata": {},
   "outputs": [],
   "source": [
    "# Import dependencies\n",
    "\n",
    "import numpy as np\n",
    "import pandas as pd"
   ]
  },
  {
   "cell_type": "code",
   "execution_count": null,
   "metadata": {},
   "outputs": [],
   "source": [
    "# Import Matplotlib\n",
    "\n",
    "import matplotlib.pyplot as plt "
   ]
  },
  {
   "cell_type": "markdown",
   "metadata": {},
   "source": [
    "## 5. Displaying Plots in Matplotlib\n",
    "\n",
    "\n",
    "Viewing the Matplotlib plot is context based. The best usage of Matplotlib differs depending on how we are using it. \n",
    "In our case we are always plotting from a Jupyter notebook.\n"
   ]
  },
  {
   "cell_type": "markdown",
   "metadata": {},
   "source": [
    "### Plotting from a Jupyter notebook\n",
    "\n",
    "\n",
    "Interactive plotting within a Jupyter Notebook can be done with the **%matplotlib** command. There are two possible options to work with graphics in Jupyter Notebook. These are as follows:-\n",
    "\n",
    "\n",
    "•\t**%matplotlib notebook** – This command will produce interactive plots embedded within the notebook.\n",
    "\n",
    "•\t**%matplotlib inline** – It will output static images of the plot embedded in the notebook.\n",
    "\n",
    "\n",
    "After this command (it needs to be done only once per kernel per session), any cell within the notebook that creates a plot will embed a PNG image of the graphic.\n"
   ]
  },
  {
   "cell_type": "code",
   "execution_count": null,
   "metadata": {},
   "outputs": [],
   "source": [
    "%matplotlib inline\n",
    "\n",
    "\n",
    "x1 = np.linspace(0, 10, 100)\n",
    "\n",
    "\n",
    "# create a plot figure\n",
    "fig = plt.figure()\n",
    "\n",
    "plt.plot(x1, np.sin(x1), '-')\n",
    "plt.plot(x1, np.cos(x1), '--');"
   ]
  },
  {
   "cell_type": "markdown",
   "metadata": {},
   "source": [
    "## 6. Matplotlib Object Hierarchy\n",
    "\n",
    "\n",
    "There is an Object Hierarchy within Matplotlib. In Matplotlib, a plot is a hierarchy of nested Python objects. \n",
    "A **hierarchy** means that there is a tree-like structure of Matplotlib objects underlying each plot.\n",
    "\n",
    "\n",
    "A **Figure** object is the outermost container for a Matplotlib plot. The **Figure** object contain multiple **Axes** objects. So, the **Figure** is the final graphic that may contain one or more **Axes**. The **Axes** represent an individual plot.\n",
    "\n",
    "\n",
    "So, we can think of the **Figure** object as a box-like container containing one or more **Axes**. The **Axes** object contain smaller objects such as tick marks, lines, legends, title and text-boxes.\n"
   ]
  },
  {
   "cell_type": "markdown",
   "metadata": {},
   "source": [
    "## 7.\tMatplotlib API Overview\n",
    "\n",
    "\n",
    "\n",
    "Matplotlib has two APIs to work with. A MATLAB-style state-based interface and a more powerful object-oriented (OO) interface. \n",
    "The former MATLAB-style state-based interface is called **pyplot interface** and the latter is called **Object-Oriented** interface."
   ]
  },
  {
   "cell_type": "markdown",
   "metadata": {},
   "source": [
    "## 8. Pyplot API \n",
    "\n",
    "\n",
    "**Matplotlib.pyplot** provides a MATLAB-style, procedural, state-machine interface to the underlying object-oriented library in Matplotlib. **Pyplot** is a collection of command style functions that make Matplotlib work like MATLAB. Each pyplot function makes some change to a figure - e.g., creates a figure, creates a plotting area in a figure etc. \n",
    "\n",
    "\n",
    "**Matplotlib.pyplot** is stateful because the underlying engine keeps track of the current figure and plotting area information and plotting functions change that information. To make it clearer, we did not use any object references during our plotting we just issued a pyplot command, and the changes appeared in the figure.\n",
    "\n",
    "\n",
    "We can get a reference to the current figure and axes using the following commands-\n",
    "\n",
    "\n",
    "`plt.gcf ( )`   # get current figure\n",
    "\n",
    "`plt.gca ( )`   # get current axes \n",
    "\n",
    " \n",
    "**Matplotlib.pyplot** is a collection of commands and functions that make Matplotlib behave like MATLAB (for plotting). \n",
    "The MATLAB-style tools are contained in the pyplot (plt) interface. \n",
    "\n",
    "This is really helpful for interactive plotting, because we can issue a command and see the result immediately. But, it is not suitable for more complicated cases. For these cases, we have another interface called **Object-Oriented** interface, described later.\n"
   ]
  },
  {
   "cell_type": "markdown",
   "metadata": {},
   "source": [
    "The following code produces sine and cosine curves using Pyplot API."
   ]
  },
  {
   "cell_type": "code",
   "execution_count": null,
   "metadata": {},
   "outputs": [],
   "source": [
    "# create a plot figure\n",
    "plt.figure()\n",
    "\n",
    "\n",
    "# create the first of two panels and set current axis\n",
    "plt.subplot(2, 1, 1)   # (rows, columns, panel number)\n",
    "plt.plot(x1, np.sin(x1))\n",
    "\n",
    "\n",
    "# create the second of two panels and set current axis\n",
    "plt.subplot(2, 1, 2)   # (rows, columns, panel number)\n",
    "plt.plot(x1, np.cos(x1));\n"
   ]
  },
  {
   "cell_type": "code",
   "execution_count": null,
   "metadata": {},
   "outputs": [],
   "source": [
    "# get current figure information\n",
    "\n",
    "print(plt.gcf())"
   ]
  },
  {
   "cell_type": "code",
   "execution_count": null,
   "metadata": {},
   "outputs": [],
   "source": [
    "# get current axis information\n",
    "\n",
    "print(plt.gca())"
   ]
  },
  {
   "cell_type": "markdown",
   "metadata": {},
   "source": [
    "### Visualization with Pyplot\n",
    "\n",
    "\n",
    "Generating visualization with Pyplot is very easy. The x-axis values ranges from 0-3 and the y-axis from 1-4. If we provide a single list or array to the plot() command, matplotlib assumes it is a sequence of y values, and automatically generates the x values. Since python ranges start with 0, the default x vector has the same length as y but starts with 0. Hence the x data are [0,1,2,3] and y data are [1,2,3,4]."
   ]
  },
  {
   "cell_type": "code",
   "execution_count": null,
   "metadata": {},
   "outputs": [],
   "source": [
    "plt.plot([1, 2, 3, 4])\n",
    "plt.ylabel('Numbers')\n",
    "plt.show()"
   ]
  },
  {
   "cell_type": "markdown",
   "metadata": {},
   "source": [
    "### plot() - A versatile command\n",
    "\n",
    "\n",
    "**plot()** is a versatile command. It will take an arbitrary number of arguments. For example, to plot x versus y, \n",
    "we can issue the following command:-"
   ]
  },
  {
   "cell_type": "code",
   "execution_count": null,
   "metadata": {},
   "outputs": [],
   "source": [
    "plt.plot([1, 2, 3, 4], [1, 4, 9, 16])\n",
    "plt.show()"
   ]
  },
  {
   "cell_type": "markdown",
   "metadata": {},
   "source": [
    "### State-machine interface\n",
    "\n",
    "Pyplot provides the state-machine interface to the underlying object-oriented plotting library. The state-machine implicitly and automatically creates figures and axes to achieve the desired plot. For example:"
   ]
  },
  {
   "cell_type": "code",
   "execution_count": null,
   "metadata": {},
   "outputs": [],
   "source": [
    "x = np.linspace(0, 2, 100)\n",
    "\n",
    "plt.plot(x, x, label='linear')\n",
    "plt.plot(x, x**2, label='quadratic')\n",
    "plt.plot(x, x**3, label='cubic')\n",
    "\n",
    "plt.xlabel('x label')\n",
    "plt.ylabel('y label')\n",
    "\n",
    "plt.title(\"Simple Plot\")\n",
    "\n",
    "plt.legend()\n",
    "\n",
    "plt.show()"
   ]
  },
  {
   "cell_type": "markdown",
   "metadata": {},
   "source": [
    "### Formatting the style of plot\n",
    "\n",
    "\n",
    "For every x, y pair of arguments, there is an optional third argument which is the format string that indicates the color and line type of the plot. The letters and symbols of the format string are from MATLAB. We can concatenate a color string with a line style string. The default format string is 'b-', which is a solid blue line. For example, to plot the above line with red circles, we would issue the following command:-"
   ]
  },
  {
   "cell_type": "code",
   "execution_count": null,
   "metadata": {},
   "outputs": [],
   "source": [
    "plt.plot([1, 2, 3, 4], [1, 4, 9, 16], 'ro')\n",
    "plt.axis([0, 6, 0, 20])\n",
    "plt.show()"
   ]
  },
  {
   "cell_type": "markdown",
   "metadata": {},
   "source": [
    "The **axis()** command in the example above takes a list of [xmin, xmax, ymin, ymax] and specifies the viewport of the axes."
   ]
  },
  {
   "cell_type": "markdown",
   "metadata": {},
   "source": [
    "### Working with NumPy arrays\n",
    "\n",
    "\n",
    "Generally, we have to work with NumPy arrays. All sequences are converted to numpy arrays internally. The below example illustrates plotting several lines with different format styles in one command using arrays."
   ]
  },
  {
   "cell_type": "code",
   "execution_count": null,
   "metadata": {},
   "outputs": [],
   "source": [
    "# evenly sampled time at 200ms intervals\n",
    "t = np.arange(0., 5., 0.2)\n",
    "\n",
    "# red dashes, blue squares and green triangles\n",
    "plt.plot(t, t, 'r--', t, t**2, 'bs', t, t**3, 'g^')\n",
    "plt.show()"
   ]
  },
  {
   "cell_type": "markdown",
   "metadata": {},
   "source": [
    "## 9.\tObject-Oriented API\n",
    "\n",
    "\n",
    "The **Object-Oriented API** is available for more complex plotting situations. It allows us to exercise more control over the figure. In Pyplot API, we depend on some notion of an \"active\" figure or axes. But, in the **Object-Oriented API** the plotting functions are methods of explicit Figure and Axes objects.\n",
    "\n",
    "\n",
    "**Figure** is the top level container for all the plot elements. We can think of the **Figure** object as a box-like container containing one or more **Axes**. \n",
    "\n",
    "\n",
    "The **Axes** represent an individual plot. The **Axes** object contain smaller objects such as axis, tick marks, lines, legends, title and text-boxes.\n"
   ]
  },
  {
   "cell_type": "markdown",
   "metadata": {},
   "source": [
    "The following code produces sine and cosine curves using Object-Oriented API."
   ]
  },
  {
   "cell_type": "code",
   "execution_count": null,
   "metadata": {},
   "outputs": [],
   "source": [
    "# First create a grid of plots\n",
    "# ax will be an array of two Axes objects\n",
    "fig, ax = plt.subplots(2)\n",
    "\n",
    "\n",
    "# Call plot() method on the appropriate object\n",
    "ax[0].plot(x1, np.sin(x1), 'b-')\n",
    "ax[1].plot(x1, np.cos(x1), 'b-');\n"
   ]
  },
  {
   "cell_type": "markdown",
   "metadata": {},
   "source": [
    "### Objects and Reference\n",
    "\n",
    "\n",
    "The main idea with the **Object Oriented API** is to have objects that one can apply functions and actions on. The real advantage of this approach becomes apparent when more than one figure is created or when a figure contains more than one \n",
    "subplot.\n",
    "\n",
    "\n",
    "We create a reference to the figure instance in the **fig** variable. Then, we ceate a new axis instance **axes** using the \n",
    "**add_axes** method in the Figure class instance fig as follows:-\n",
    "\n"
   ]
  },
  {
   "cell_type": "code",
   "execution_count": null,
   "metadata": {},
   "outputs": [],
   "source": [
    "fig = plt.figure()\n",
    "\n",
    "x2 = np.linspace(0, 5, 10)\n",
    "y2 = x2 ** 2\n",
    "\n",
    "axes = fig.add_axes([0.1, 0.1, 0.8, 0.8])\n",
    "\n",
    "axes.plot(x2, y2, 'r')\n",
    "\n",
    "axes.set_xlabel('x2')\n",
    "axes.set_ylabel('y2')\n",
    "axes.set_title('title');"
   ]
  },
  {
   "cell_type": "markdown",
   "metadata": {},
   "source": [
    "### Figure and Axes\n",
    "\n",
    "\n",
    "I start by creating a figure and an axes. A figure and axes can be created as follows:\n",
    "\n",
    "\n",
    "`fig = plt.figure()`\n",
    "\n",
    "`ax = plt.axes()`\n",
    "\n",
    "\n",
    "\n",
    "In Matplotlib, the **figure** (an instance of the class plt.Figure) is a single container that contains all the objects representing axes, graphics, text and labels. The **axes** (an instance of the class plt.Axes) is a bounding box with \n",
    "ticks and labels. It will contain the plot elements that make up the visualization. I have used the variable name fig \n",
    "to refer to a figure instance, and ax to refer to an axes instance or group of axes instances.\n"
   ]
  },
  {
   "cell_type": "code",
   "execution_count": null,
   "metadata": {},
   "outputs": [],
   "source": [
    "fig = plt.figure()\n",
    "\n",
    "ax = plt.axes()"
   ]
  },
  {
   "cell_type": "markdown",
   "metadata": {},
   "source": [
    "## 10. Figure and Subplots\n",
    "\n",
    "\n",
    "\n",
    "Plots in Matplotlib reside within a Figure object. As described earlier, we can create a new figure with plt.figure() \n",
    "as follows:-\n",
    "\n",
    "\n",
    "`fig = plt.figure()`\n",
    "\n",
    "\n",
    "Now, I create one or more subplots using fig.add_subplot() as follows:-\n",
    "\n",
    "\n",
    "`ax1 = fig.add_subplot(2, 2, 1)`\n",
    "\n",
    "\n",
    "The above command means that there are four plots in total (2 * 2 = 4). I select the first of four subplots (numbered from 1).\n",
    "\n",
    "\n",
    "I create the next three subplots using the fig.add_subplot() commands as follows:-\n",
    "\n",
    "\n",
    "`ax2 = fig.add_subplot(2, 2, 2)`\n",
    "\n",
    "`ax3 = fig.add_subplot(2, 2, 3)`\n",
    "\n",
    "`ax4 = fig.add_subplot(2, 2, 4)`"
   ]
  },
  {
   "attachments": {
    "Subplots.png": {
     "image/png": "[encoded data removed]"
    }
   },
   "cell_type": "markdown",
   "metadata": {},
   "source": [
    "The above command result in creation of subplots. The diagrammatic representation of subplots are as follows:-\n",
    "\n",
    "\n",
    "![Subplots.png](attachment:Subplots.png)"
   ]
  },
  {
   "cell_type": "markdown",
   "metadata": {},
   "source": [
    "## 11. First plot with Matplotlib\n",
    "\n",
    "\n",
    "Now, I will start producing plots. Here is the first example:-"
   ]
  },
  {
   "cell_type": "code",
   "execution_count": null,
   "metadata": {},
   "outputs": [],
   "source": [
    "plt.plot([1, 3, 2, 4], 'b-')\n",
    "\n",
    "plt.show( )"
   ]
  },
  {
   "cell_type": "markdown",
   "metadata": {},
   "source": [
    "`plt.plot([1, 3, 2, 4], 'b-')`\n",
    "\n",
    "This code line is the actual plotting command. Only a list of values has been plotted that represent the vertical coordinates of the points to be plotted. Matplotlib will use an implicit horizontal values list, from 0 (the first value) to N-1 (where N is the number of items in the list)."
   ]
  },
  {
   "cell_type": "markdown",
   "metadata": {},
   "source": [
    "### Specify both Lists\n",
    "\n",
    "\n",
    "Also, we can explicitly specify both the lists as follows:- \n",
    "\n",
    "\n",
    "`x3 = range(6)`\n",
    "\n",
    "\n",
    "`plt.plot(x3, [xi**2 for xi in x3])` \n",
    "\n",
    "\n",
    "`plt.show()`\n"
   ]
  },
  {
   "cell_type": "code",
   "execution_count": null,
   "metadata": {},
   "outputs": [],
   "source": [
    "x3 = np.arange(0.0, 6.0, 0.01) \n",
    "\n",
    "plt.plot(x3, [xi**2 for xi in x3], 'b-') \n",
    "\n",
    "plt.show()\n"
   ]
  },
  {
   "cell_type": "markdown",
   "metadata": {},
   "source": [
    "## 12.\tMultiline Plots\n",
    "\n",
    "Multiline Plots mean plotting more than one plot on the same figure. We can plot more than one plot on the same figure.  \n",
    "It can be achieved by plotting all the lines before calling show(). It can be done as follows:-\n"
   ]
  },
  {
   "cell_type": "code",
   "execution_count": null,
   "metadata": {},
   "outputs": [],
   "source": [
    "x4 = range(1, 5)\n",
    "\n",
    "plt.plot(x4, [xi*1.5 for xi in x4])\n",
    "\n",
    "plt.plot(x4, [xi*3 for xi in x4])\n",
    "\n",
    "plt.plot(x4, [xi/3.0 for xi in x4])\n",
    "\n",
    "plt.show()"
   ]
  },
  {
   "attachments": {
    "Parts%20of%20a%20plot.png": {
     "image/png": "[encoded data removed]"
    }
   },
   "cell_type": "markdown",
   "metadata": {},
   "source": [
    "## 13.\tParts of a Plot\n",
    "\n",
    "\n",
    "There are different parts of a plot. These are title, legend, grid, axis and labels etc. These are denoted in the following figure:-\n",
    "\n",
    "\n",
    "![Parts%20of%20a%20plot.png](attachment:Parts%20of%20a%20plot.png)"
   ]
  },
  {
   "cell_type": "markdown",
   "metadata": {},
   "source": [
    "## 14.\tSaving the Plot\n",
    "\n",
    "\n",
    "We can save the figures in a wide variety of formats. We can save them using the **savefig()** command as follows:-\n",
    "\n",
    "\n",
    "`fig.savefig(‘fig1.png’)`\n",
    "\n",
    "\n",
    "\n",
    "We can explore the contents of the file using the IPython **Image** object.\n",
    "\n",
    "\n",
    "\n",
    "`from IPython.display import Image`\n",
    "\n",
    "\n",
    "`Image(‘fig1.png’)`\n",
    "\n",
    "\n",
    "In **savefig()** command, the file format is inferred from the extension of the given filename. Depending on the backend, \n",
    "many different file formats are available. The list of supported file types can be found by using the get_supported_filetypes() method of the figure canvas object as follows:-\n",
    "\n",
    "\n",
    "`fig.canvas.get_supported_filetypes()` \n"
   ]
  },
  {
   "cell_type": "code",
   "execution_count": null,
   "metadata": {},
   "outputs": [],
   "source": [
    "# Saving the figure\n",
    "\n",
    "fig.savefig('plot1.png')"
   ]
  },
  {
   "cell_type": "code",
   "execution_count": null,
   "metadata": {},
   "outputs": [],
   "source": [
    "# Explore the contents of figure\n",
    "\n",
    "from IPython.display import Image\n",
    "\n",
    "Image('plot1.png')\n"
   ]
  },
  {
   "cell_type": "code",
   "execution_count": null,
   "metadata": {},
   "outputs": [],
   "source": [
    "# Explore supported file formats\n",
    "\n",
    "\n",
    "fig.canvas.get_supported_filetypes() "
   ]
  },
  {
   "cell_type": "markdown",
   "metadata": {},
   "source": [
    "## 15.\tLine Plot\n",
    "\n",
    "\n",
    "We can use the following commands to draw the simple sinusoid line plot:-\n",
    "\n"
   ]
  },
  {
   "cell_type": "code",
   "execution_count": null,
   "metadata": {},
   "outputs": [],
   "source": [
    "# Create figure and axes first\n",
    "fig = plt.figure()\n",
    "\n",
    "ax = plt.axes()\n",
    "\n",
    "# Declare a variable x5\n",
    "x5 = np.linspace(0, 10, 1000)\n",
    "\n",
    "\n",
    "# Plot the sinusoid function\n",
    "ax.plot(x5, np.sin(x5), 'b-'); "
   ]
  },
  {
   "cell_type": "markdown",
   "metadata": {},
   "source": [
    "## 16.\tScatter Plot\n",
    "\n",
    "Another commonly used plot type is the scatter plot. Here the points are represented individually with a dot or a circle.\n",
    "\n",
    "\n",
    "### Scatter Plot with plt.plot()\n",
    "\n",
    "We have used plt.plot/ax.plot to produce line plots. We can use the same functions to produce the scatter plots as follows:-\n",
    "\n"
   ]
  },
  {
   "cell_type": "code",
   "execution_count": null,
   "metadata": {},
   "outputs": [],
   "source": [
    "x7 = np.linspace(0, 10, 30)\n",
    "\n",
    "y7 = np.sin(x7)\n",
    "\n",
    "plt.plot(x7, y7, 'o', color = 'black');\n"
   ]
  },
  {
   "cell_type": "markdown",
   "metadata": {},
   "source": [
    "## 17.\tHistogram\n",
    "\n",
    "\n",
    "Histogram charts are a graphical display of frequencies. They are represented as bars. They show what portion of the \n",
    "dataset falls into each category, usually specified as non-overlapping intervals. These categories are called bins.\n",
    "\n",
    "The **plt.hist()** function can be used to plot a simple histogram as follows:-\n"
   ]
  },
  {
   "cell_type": "code",
   "execution_count": null,
   "metadata": {},
   "outputs": [],
   "source": [
    "data1 = np.random.randn(1000)\n",
    "\n",
    "plt.hist(data1); \n"
   ]
  },
  {
   "cell_type": "markdown",
   "metadata": {},
   "source": [
    "## 18.\tBar Chart\n",
    "\n",
    "\n",
    "Bar charts display rectangular bars either in vertical or horizontal form. Their length is proportional to the values they represent. They are used to compare two or more values.\n",
    "\n",
    "\n",
    "We can plot a bar chart using plt.bar() function. We can plot a bar chart as follows:-\n"
   ]
  },
  {
   "cell_type": "code",
   "execution_count": null,
   "metadata": {},
   "outputs": [],
   "source": [
    "data2 = [5. , 25. , 50. , 20.]\n",
    "\n",
    "plt.bar(range(len(data2)), data2)\n",
    "\n",
    "plt.show() \n"
   ]
  },
  {
   "cell_type": "markdown",
   "metadata": {},
   "source": [
    "## 19.\tHorizontal Bar Chart\n",
    "\n",
    "\n",
    "We can produce Horizontal Bar Chart using the plt.barh() function. It is the strict equivalent of plt.bar() function.\n",
    "\n"
   ]
  },
  {
   "cell_type": "code",
   "execution_count": null,
   "metadata": {},
   "outputs": [],
   "source": [
    "data2 = [5. , 25. , 50. , 20.]\n",
    "\n",
    "plt.barh(range(len(data2)), data2)\n",
    "\n",
    "plt.show() \n"
   ]
  },
  {
   "cell_type": "markdown",
   "metadata": {},
   "source": [
    "## 20.\tError Bar Chart\n",
    "\n",
    "\n",
    "\n",
    "In experimental design, the measurements lack perfect precision. So, we have to repeat the measurements. It results in \n",
    "obtaining a set of values. The representation of the distribution of data values is done by plotting a single data point \n",
    "(known as mean value of dataset) and an error bar to represent the overall distribution of data.\n",
    "\n",
    "\n",
    "We can use Matplotlib's **errorbar()** function to represent the distribution of data values. It can be done as follows:-"
   ]
  },
  {
   "cell_type": "code",
   "execution_count": null,
   "metadata": {},
   "outputs": [],
   "source": [
    "x9 = np.arange(0, 4, 0.2)\n",
    "\n",
    "y9 = np.exp(-x9)\n",
    "\n",
    "e1 = 0.1 * np.abs(np.random.randn(len(y9)))\n",
    "\n",
    "plt.errorbar(x9, y9, yerr = e1, fmt = '.-')\n",
    "\n",
    "plt.show();"
   ]
  },
  {
   "cell_type": "markdown",
   "metadata": {},
   "source": [
    "## 21. Stacked Bar Chart\n",
    "\n",
    "\n",
    "We can draw stacked bar chart by using a special parameter called **bottom** from the plt.bar() function. It can be done as follows:- "
   ]
  },
  {
   "cell_type": "code",
   "execution_count": null,
   "metadata": {},
   "outputs": [],
   "source": [
    "A = [15., 30., 45., 22.]\n",
    "\n",
    "B = [15., 25., 50., 20.]\n",
    "\n",
    "z2 = range(4)\n",
    "\n",
    "plt.bar(z2, A, color = 'b')\n",
    "plt.bar(z2, B, color = 'r', bottom = A)\n",
    "\n",
    "plt.show()"
   ]
  },
  {
   "cell_type": "markdown",
   "metadata": {},
   "source": [
    "The optional **bottom** parameter of the plt.bar() function allows us to specify a starting position for a bar. Instead of running from zero to a value, it will go from the bottom to value. The first call to plt.bar() plots the blue bars. The second call to plt.bar() plots the red bars, with the bottom of the red bars being at the top of the blue bars."
   ]
  },
  {
   "cell_type": "markdown",
   "metadata": {},
   "source": [
    "## 22. Pie Chart\n",
    "\n",
    "\n",
    "Pie charts are circular representations, divided into sectors. The sectors are also called **wedges**. The arc length of each sector is proportional to the quantity we are describing. It is an effective way to represent information when we are interested mainly in comparing the wedge against the whole pie, instead of wedges against each other.\n",
    "\n",
    "Matplotlib provides the **pie()** function to plot pie charts from an array X. Wedges are created proportionally, so that each value x of array X generates a wedge proportional to x/sum(X)."
   ]
  },
  {
   "cell_type": "code",
   "execution_count": null,
   "metadata": {},
   "outputs": [],
   "source": [
    "plt.figure(figsize=(7,7))\n",
    "\n",
    "x10 = [35, 25, 20, 20]\n",
    "\n",
    "labels = ['Computer', 'Electronics', 'Mechanical', 'Chemical']\n",
    "\n",
    "plt.pie(x10, labels=labels);\n",
    "\n",
    "plt.show()"
   ]
  },
  {
   "cell_type": "markdown",
   "metadata": {},
   "source": [
    "## 23. Boxplot\n",
    "\n",
    "\n",
    "Boxplot allows us to compare distributions of values by showing the median, quartiles, maximum and minimum of a set of values.\n",
    "\n",
    "We can plot a boxplot with the **boxplot()** function as follows:-"
   ]
  },
  {
   "cell_type": "code",
   "execution_count": null,
   "metadata": {},
   "outputs": [],
   "source": [
    "data3 = np.random.randn(100)\n",
    "\n",
    "plt.boxplot(data3)\n",
    "\n",
    "plt.show();"
   ]
  },
  {
   "cell_type": "markdown",
   "metadata": {},
   "source": [
    "The **boxplot()** function takes a set of values and computes the mean, median and other statistical quantities. The following points describe the preceeding boxplot:\n",
    "\n",
    "\n",
    "•\tThe red bar is the median of the distribution. \n",
    "\n",
    "•\tThe blue box includes 50 percent of the data from the lower quartile to the upper quartile. Thus, the box is centered on the median of the data. \n",
    "\n",
    "•\tThe lower whisker extends to the lowest value within 1.5 IQR from the lower quartile. \n",
    "\n",
    "•\tThe upper whisker extends to the highest value within 1.5 IQR from the upper quartile. \n",
    "\n",
    "•\tValues further from the whiskers are shown with a cross marker.\n",
    "\n"
   ]
  },
  {
   "cell_type": "markdown",
   "metadata": {},
   "source": [
    "## 24. Area Chart\n",
    "\n",
    "\n",
    "An **Area Chart** is very similar to a **Line Chart**. The area between the x-axis and the line is filled in with color or shading. It represents the evolution of a numerical variable following another numerical variable.\n",
    "\n",
    "We can create an Area Chart as follows:-\n"
   ]
  },
  {
   "cell_type": "code",
   "execution_count": null,
   "metadata": {},
   "outputs": [],
   "source": [
    "# Create some data\n",
    "x12 = range(1, 6)\n",
    "y12 = [1, 4, 6, 8, 4]\n",
    "\n",
    "# Area plot\n",
    "plt.fill_between(x12, y12)\n",
    "plt.show()"
   ]
  },
  {
   "cell_type": "markdown",
   "metadata": {},
   "source": [
    "I have created a basic Area chart. I could also use the stackplot function to create the Area chart as follows:-\n",
    "\n",
    "`plt.stackplot(x12, y12)`\n",
    "\n",
    "The fill_between() function is more convenient for future customization.\n"
   ]
  },
  {
   "cell_type": "markdown",
   "metadata": {},
   "source": [
    "## 25. Styles with Matplotlib Plots\n",
    "\n",
    "\n",
    "The Matplotlib version 1.4 which was released in August 2014 added a very convenient `style` module. It includes a number of \n",
    "new default stylesheets, as well as the ability to create and package own styles.\n",
    "\n",
    "We can view the list of all available styles by the following command.\n",
    "\n",
    "\n",
    "`print(plt.style.availabe)`\n"
   ]
  },
  {
   "cell_type": "code",
   "execution_count": null,
   "metadata": {},
   "outputs": [],
   "source": [
    "# View list of all available styles\n",
    "\n",
    "print(plt.style.available)"
   ]
  },
  {
   "cell_type": "markdown",
   "metadata": {},
   "source": [
    "We can set the **Styles** for Matplotlib plots as follows:-\n",
    "\n",
    "\n",
    "`plt.style.use('seaborn-bright')`\n"
   ]
  },
  {
   "cell_type": "code",
   "execution_count": null,
   "metadata": {},
   "outputs": [],
   "source": [
    "# Set styles for plots\n",
    "\n",
    "plt.style.use('seaborn-bright')"
   ]
  },
  {
   "cell_type": "markdown",
   "metadata": {},
   "source": [
    "I have set the **seaborn-bright** style for plots. So, the plot uses the **seaborn-bright** Matplotlib style for plots.\n",
    "\n"
   ]
  },
  {
   "cell_type": "markdown",
   "metadata": {},
   "source": [
    "## 26. Adding a grid\n",
    "\n",
    "\n",
    "In some cases, the background of a plot was completely blank. We can get more information, if there is a reference system in the plot. The reference system would improve the comprehension of the plot. An example of the reference system is adding a **grid**.\n",
    "We can add a grid to the plot by calling the **grid()** function. It takes one parameter, a Boolean value, to enable(if True)\n",
    "or disable(if False) the grid."
   ]
  },
  {
   "cell_type": "code",
   "execution_count": null,
   "metadata": {},
   "outputs": [],
   "source": [
    "x15 = np.arange(1, 5)\n",
    "\n",
    "plt.plot(x15, x15*1.5, x15, x15*3.0, x15, x15/3.0)\n",
    "\n",
    "plt.grid(True)\n",
    "\n",
    "plt.show()"
   ]
  },
  {
   "cell_type": "markdown",
   "metadata": {},
   "source": [
    "## 27. Handling axes\n",
    "\n",
    "\n",
    "Matplotlib automatically sets the limits of the plot to precisely contain the plotted datasets. Sometimes, we want to set the\n",
    "axes limits ourself. We can set the axes limits with the **axis()** function as follows:-"
   ]
  },
  {
   "cell_type": "code",
   "execution_count": null,
   "metadata": {},
   "outputs": [],
   "source": [
    "x15 = np.arange(1, 5)\n",
    "\n",
    "plt.plot(x15, x15*1.5, x15, x15*3.0, x15, x15/3.0)\n",
    "\n",
    "plt.axis()   # shows the current axis limits values\n",
    "\n",
    "plt.axis([0, 5, -1, 13])\n",
    "\n",
    "plt.show()"
   ]
  },
  {
   "cell_type": "markdown",
   "metadata": {},
   "source": [
    "We can see that we now have more space around the lines."
   ]
  },
  {
   "cell_type": "markdown",
   "metadata": {},
   "source": [
    "If we execute **axis()** without parameters, it returns the actual axis limits.\n",
    "\n",
    "We can set parameters to **axis()** by a list of four values. \n",
    "\n",
    "The list of four values are the keyword arguments [xmin, xmax, ymin, ymax] allows the minimum and maximum limits for X and Y \n",
    "axis respectively.\n",
    " "
   ]
  },
  {
   "cell_type": "markdown",
   "metadata": {},
   "source": [
    "We can control the limits for each axis separately using the `xlim()` and `ylim()` functions. This can be done as follows:-"
   ]
  },
  {
   "cell_type": "code",
   "execution_count": null,
   "metadata": {
    "scrolled": true
   },
   "outputs": [],
   "source": [
    "x15 = np.arange(1, 5)\n",
    "\n",
    "plt.plot(x15, x15*1.5, x15, x15*3.0, x15, x15/3.0)\n",
    "\n",
    "plt.xlim([1.0, 4.0])\n",
    "\n",
    "plt.ylim([0.0, 12.0])\n"
   ]
  },
  {
   "cell_type": "markdown",
   "metadata": {},
   "source": [
    "## 28. Handling X and Y ticks\n",
    "\n",
    "\n",
    "Vertical and horizontal ticks are those little segments on the axes, coupled with axes labels, used to give a reference system\n",
    "on the graph.So, they form the origin and the grid lines.\n",
    "\n",
    "Matplotlib provides two basic functions to manage them - **xticks()** and **yticks()**.\n",
    "\n",
    "Executing with no arguments, the tick function returns the current ticks' locations and the labels corresponding to each of them.\n",
    "\n",
    "We can pass arguments(in the form of lists) to the ticks functions. The arguments are:-\n",
    "\n",
    "1. Locations of the ticks\n",
    "\n",
    "2. Labels to draw at these locations.\n",
    "\n",
    "We can demonstrate the usage of the ticks functions in the code snippet below:-\n",
    "\n"
   ]
  },
  {
   "cell_type": "code",
   "execution_count": null,
   "metadata": {},
   "outputs": [],
   "source": [
    "u = [5, 4, 9, 7, 8, 9, 6, 5, 7, 8]\n",
    "\n",
    "plt.plot(u)\n",
    "\n",
    "plt.xticks([2, 4, 6, 8, 10])\n",
    "plt.yticks([2, 4, 6, 8, 10])\n",
    "\n",
    "plt.show()"
   ]
  },
  {
   "cell_type": "markdown",
   "metadata": {},
   "source": [
    "## 29. Adding labels\n",
    "\n",
    "\n",
    "Another important piece of information to add to a plot is the axes labels, since they specify the type of data we are plotting."
   ]
  },
  {
   "cell_type": "code",
   "execution_count": null,
   "metadata": {},
   "outputs": [],
   "source": [
    "plt.plot([1, 3, 2, 4])\n",
    "\n",
    "plt.xlabel('This is the X axis')\n",
    "\n",
    "plt.ylabel('This is the Y axis')\n",
    "\n",
    "plt.show()"
   ]
  },
  {
   "cell_type": "markdown",
   "metadata": {},
   "source": [
    "## 30. Adding a title\n",
    "\n",
    "\n",
    "The title of a plot describes about the plot. Matplotlib provides a simple function **title()** to add a title to an image.  "
   ]
  },
  {
   "cell_type": "code",
   "execution_count": null,
   "metadata": {},
   "outputs": [],
   "source": [
    "plt.plot([1, 3, 2, 4])\n",
    "\n",
    "plt.title('First Plot')\n",
    "\n",
    "plt.show()"
   ]
  },
  {
   "cell_type": "markdown",
   "metadata": {},
   "source": [
    "The above plot displays the output of the previous code. The title `First Plot` is displayed on top of the plot."
   ]
  },
  {
   "cell_type": "markdown",
   "metadata": {},
   "source": [
    "## 31. Adding a legend\n",
    "\n",
    "\n",
    "Legends are used to describe what each line or curve means in the plot. \n",
    "\n",
    "Legends for curves in a figure can be added in two ways. One method is to use the **legend** method of the axis object and \n",
    "pass a list/tuple of legend texts as follows:-"
   ]
  },
  {
   "cell_type": "code",
   "execution_count": null,
   "metadata": {},
   "outputs": [],
   "source": [
    "x15 = np.arange(1, 5)\n",
    "\n",
    "fig, ax = plt.subplots()\n",
    "\n",
    "ax.plot(x15, x15*1.5)\n",
    "ax.plot(x15, x15*3.0)\n",
    "ax.plot(x15, x15/3.0)\n",
    "\n",
    "ax.legend(['Normal','Fast','Slow']);\n"
   ]
  },
  {
   "cell_type": "markdown",
   "metadata": {},
   "source": [
    "The above method follows the MATLAB API. It is prone to errors and unflexible if curves are added to or removed from the plot.\n",
    "It resulted in a wrongly labelled curve."
   ]
  },
  {
   "cell_type": "markdown",
   "metadata": {},
   "source": [
    "A better method is to use the **label** keyword argument when plots are added to the figure. Then we use the **legend** method without arguments to add the legend to the figure. \n",
    "\n",
    "The advantage of this method is that if curves are added or removed from the figure, the legend is automatically updated\n",
    "accordingly. It can be achieved by executing the code below:-\n"
   ]
  },
  {
   "cell_type": "code",
   "execution_count": null,
   "metadata": {},
   "outputs": [],
   "source": [
    "x15 = np.arange(1, 5)\n",
    "\n",
    "fig, ax = plt.subplots()\n",
    "\n",
    "ax.plot(x15, x15*1.5, label='Normal')\n",
    "ax.plot(x15, x15*3.0, label='Fast')\n",
    "ax.plot(x15, x15/3.0, label='Slow')\n",
    "\n",
    "ax.legend();\n",
    "\n"
   ]
  },
  {
   "cell_type": "markdown",
   "metadata": {},
   "source": [
    "The **legend** function takes an optional keyword argument **loc**. It specifies the location of the legend to be drawn. \n",
    "The **loc** takes numerical codes for the various places the legend can be drawn. The most common **loc** values are as follows:-"
   ]
  },
  {
   "cell_type": "markdown",
   "metadata": {},
   "source": [
    "* ax.legend(loc=0)  # let Matplotlib decide the optimal location\n",
    "* ax.legend(loc=1)  # upper right corner\n",
    "* ax.legend(loc=2)  # upper left corner\n",
    "* ax.legend(loc=3)  # lower left corner\n",
    "* ax.legend(loc=4)  # lower right corner\n",
    "* ax.legend(loc=5)  # right\n",
    "* ax.legend(loc=6)  # center left\n",
    "* ax.legend(loc=7)  # center right\n",
    "* ax.legend(loc=8)  # lower center\n",
    "* ax.legend(loc=9)  # upper center\n",
    "* ax.legend(loc=10) # center"
   ]
  },
  {
   "cell_type": "markdown",
   "metadata": {},
   "source": [
    "## 32. Control colours\n",
    "\n",
    "\n",
    "We can draw different lines or curves in a plot with different colours. In the code below, we specify colour as the last argument to draw red, blue and green lines."
   ]
  },
  {
   "cell_type": "code",
   "execution_count": null,
   "metadata": {},
   "outputs": [],
   "source": [
    "x16 = np.arange(1, 5)\n",
    "\n",
    "plt.plot(x16, 'r')\n",
    "plt.plot(x16+1, 'g')\n",
    "plt.plot(x16+2, 'b')\n",
    "\n",
    "plt.show()"
   ]
  },
  {
   "cell_type": "markdown",
   "metadata": {},
   "source": [
    "The colour names and colour abbreviations are given in the following table:-\n",
    "\n",
    "\n",
    "**Colour abbreviation**      **Colour name**\n",
    "\n",
    "b                               blue\n",
    "\n",
    "c                               cyan\n",
    "\n",
    "g                               green\n",
    "\n",
    "k                               black\n",
    "\n",
    "m                               magenta\n",
    "\n",
    "r                               red\n",
    "\n",
    "w                               white\n",
    "\n",
    "y                               yellow"
   ]
  },
  {
   "cell_type": "markdown",
   "metadata": {},
   "source": [
    "There are several ways to specify colours, other than by colour abbreviations:\n",
    "    \n",
    "•\tThe full colour name, such as yellow\n",
    "\n",
    "•\tHexadecimal string such as ##FF00FF\n",
    "\n",
    "•\tRGB tuples, for example (1, 0, 1)\n",
    "\n",
    "•\tGrayscale intensity, in string format such as ‘0.7’.\n"
   ]
  },
  {
   "cell_type": "markdown",
   "metadata": {},
   "source": [
    "## 33. Control line styles\n",
    "\n",
    "\n",
    "Matplotlib provides us different line style options to draw curves or plots. In the code below, I use different line styles \n",
    "to draw different plots.\n"
   ]
  },
  {
   "cell_type": "code",
   "execution_count": null,
   "metadata": {},
   "outputs": [],
   "source": [
    "x16 = np.arange(1, 5)\n",
    "\n",
    "plt.plot(x16, '--', x16+1, '-.', x16+2, ':')\n",
    "\n",
    "plt.show()"
   ]
  },
  {
   "cell_type": "markdown",
   "metadata": {},
   "source": [
    "The above code snippet generates a blue dashed line, a green dash-dotted line and a red dotted line."
   ]
  },
  {
   "cell_type": "markdown",
   "metadata": {},
   "source": [
    "All the available line styles are available in the following table:\n",
    "\n",
    "\n",
    "**Style abbreviation**  **Style**\n",
    "\n",
    "-                    solid line\n",
    "   \n",
    "--                   dashed line\n",
    "   \n",
    "-.                   dash-dot line\n",
    "   \n",
    ":                    dotted line\n",
    "   \n",
    "\n",
    "\n",
    "Now, we can see the default format string for a single line plot is 'b-'."
   ]
  },
  {
   "cell_type": "markdown",
   "metadata": {},
   "source": [
    "# Your turn"
   ]
  }
 ],
 "metadata": {
  "kernelspec": {
   "display_name": "Python 3",
   "language": "python",
   "name": "python3"
  },
  "language_info": {
   "codemirror_mode": {
    "name": "ipython",
    "version": 3
   },
   "file_extension": ".py",
   "mimetype": "text/x-python",
   "name": "python",
   "nbconvert_exporter": "python",
   "pygments_lexer": "ipython3",
   "version": "3.8.5"
  }
 },
 "nbformat": 4,
 "nbformat_minor": 4
}
