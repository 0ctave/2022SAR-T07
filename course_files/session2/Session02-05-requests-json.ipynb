{
 "cells": [
  {
   "cell_type": "markdown",
   "metadata": {},
   "source": [
    "# Introduction to Web Requests with python\n",
    "\n",
    "Based on https://www.pluralsight.com/guides/web-scraping-with-request-python"
   ]
  },
  {
   "cell_type": "markdown",
   "metadata": {},
   "source": [
    "## Introduction\n",
    "\n",
    "On the Internet websites often offer a RESTful API endpoints (URLs, URIs) to share data via HTTP requests. \n",
    "\n",
    "HTTP requests are composed of methods like GET, POST, PUT, DELETE, etc. to manipulate and access resources or data. \n",
    "\n",
    "Often, websites require a registration process to access RESTful APIs or offer no API at all. \n",
    "\n",
    "So, to simplify the process, we can also download the data as raw text and format it. \n",
    "\n",
    "For instance, downloading content from a personal blog or profile information of a GitHub user without any registration. \n",
    "\n",
    "This guide will explain the process of making web requests in python using `requests` package and its various features. "
   ]
  },
  {
   "cell_type": "markdown",
   "metadata": {},
   "source": [
    "### Making a Get Request\n",
    "\n",
    "In order to make a REST call, the first step is to import the python requests module in the current environment. "
   ]
  },
  {
   "cell_type": "code",
   "execution_count": null,
   "metadata": {},
   "outputs": [],
   "source": [
    "import requests                                         # To use request package in current program "
   ]
  },
  {
   "cell_type": "markdown",
   "metadata": {},
   "source": [
    "### JSON\n",
    "\n",
    "JSON is an open standard file format, and data interchange format, that uses human-readable text to store and transmit data objects consisting of attribute–value pairs and array data types.\n",
    "An example is:\n",
    "```json\n",
    "{\n",
    "  \"firstName\": \"John\",\n",
    "  \"lastName\": \"Smith\",\n",
    "  \"isAlive\": true,\n",
    "  \"age\": 27,\n",
    "  \"address\": {\n",
    "    \"streetAddress\": \"21 2nd Street\",\n",
    "    \"city\": \"New York\",\n",
    "    \"state\": \"NY\",\n",
    "    \"postalCode\": \"10021-3100\"\n",
    "  },\n",
    "  \"phoneNumbers\": [\n",
    "    {\n",
    "      \"type\": \"home\",\n",
    "      \"number\": \"212 555-1234\"\n",
    "    },\n",
    "    {\n",
    "      \"type\": \"office\",\n",
    "      \"number\": \"646 555-4567\"\n",
    "    }\n",
    "  ],\n",
    "  \"children\": [],\n",
    "  \"spouse\": null\n",
    "}\n",
    "```\n",
    "\n",
    "JSON can be easily transformed into native Python objects and vice versa.\n"
   ]
  },
  {
   "cell_type": "markdown",
   "metadata": {},
   "source": [
    "### First request with JSON\n",
    "\n",
    "To make the first request, we will be using JSONPlaceholder API which provides JSON response for specific item like posts, todos, and albums. So, the `/todos/1` API will respond with the details of a TODO item. \n",
    "\n",
    "\n"
   ]
  },
  {
   "cell_type": "code",
   "execution_count": null,
   "metadata": {},
   "outputs": [],
   "source": [
    "url = 'https://jsonplaceholder.typicode.com/todos/1' \n",
    "response = requests.get(url)        # To execute get request \n",
    "print(response.status_code)     # To print http response code  \n",
    "print(response.text)"
   ]
  },
  {
   "cell_type": "markdown",
   "metadata": {},
   "source": [
    "### Previous results\n",
    "\n",
    "The status code `200` means a successful execution of request and `response.content` will return the actual JSON response of a TODO item."
   ]
  },
  {
   "cell_type": "markdown",
   "metadata": {},
   "source": [
    "### POST Request\n",
    "\n",
    "In POST requests a dictionary object can be used to send the data, as a key-value pair, as a second parameter to the post method. "
   ]
  },
  {
   "cell_type": "code",
   "execution_count": null,
   "metadata": {},
   "outputs": [],
   "source": [
    "data = {'title':'Python Requests','body':'Requests are awesome','userId':1} \n",
    "response = requests.post('https://jsonplaceholder.typicode.com/posts', data) \n",
    "print(response.status_code) \n",
    "print(response.text) "
   ]
  },
  {
   "cell_type": "markdown",
   "metadata": {},
   "source": [
    "###  POST request advantages\n",
    "\n",
    "POST requests have no restriction on data length, so they’re more suitable for files and images. Whereas GET requests have a limit of 2 kilobytes (some servers can handle 64 KB data) and GET only allows ASCII values.\n",
    "\n",
    "Just like `post`, requests also support other methods like `put`, `delete`, etc. Any request can be sent without any data and can define empty placeholder names to enhance code clarity. \n",
    "\n",
    "In this case where `data` is set as `None`, this can be skipped because it happened automatically due to default values. "
   ]
  },
  {
   "cell_type": "code",
   "execution_count": null,
   "metadata": {},
   "outputs": [],
   "source": [
    "response = requests.post('https://jsonplaceholder.typicode.com/posts', data = None, json = {}) \n",
    "print(response.json())      # output: {'id': 101} "
   ]
  },
  {
   "cell_type": "markdown",
   "metadata": {},
   "source": [
    "### Response Types\n",
    "\n",
    "The response object can be parsed as string, bytes, JSON, or raw as: \n"
   ]
  },
  {
   "cell_type": "code",
   "execution_count": null,
   "metadata": {},
   "outputs": [],
   "source": [
    "data = {'title':'Python Requests','body':'Requests are awesome','userId':1} \n",
    "response = requests.post('https://jsonplaceholder.typicode.com/posts', data) \n",
    "\n",
    "print(response.content)           # To print response bytes \n",
    "print(response.text)              # To print unicode response string \n",
    "jsonRes = response.json()         # To get response dictionary as JSON \n",
    "print(jsonRes['title'] , jsonRes['body'], sep = ' : ')  # output: Python Requests : Requests are awesome "
   ]
  },
  {
   "cell_type": "markdown",
   "metadata": {},
   "source": [
    "### Headers\n",
    "\n",
    "A header contains information about the client (type of browser), server, accepted response type, IP address, etc. Headers can be customized for the source browser (user-agent) and content-type. They can be viewed using the `headers` property as:"
   ]
  },
  {
   "cell_type": "code",
   "execution_count": null,
   "metadata": {},
   "outputs": [],
   "source": [
    "headers = {'user-agent': 'customize header string', 'Content-Type': 'application/json; charset=utf-8'}  \n",
    "response = requests.get(url, headers=headers)   # modify request headers "
   ]
  },
  {
   "cell_type": "code",
   "execution_count": null,
   "metadata": {},
   "outputs": [],
   "source": [
    "print(response.headers)                         # print response headers "
   ]
  },
  {
   "cell_type": "code",
   "execution_count": null,
   "metadata": {},
   "outputs": [],
   "source": [
    "print(response.headers['Content-Type'])         # output: application/json; charset=utf-8 "
   ]
  },
  {
   "cell_type": "markdown",
   "metadata": {},
   "source": [
    "### Timeout\n",
    "\n",
    "* Timeout: Allows `requests` to terminate any request, if there is no response within the set timeout duration. This will avoid any indefinite waiting state, in case there's no response from server. "
   ]
  },
  {
   "cell_type": "code",
   "execution_count": null,
   "metadata": {},
   "outputs": [],
   "source": [
    "requests.get('https://github.com/', timeout=2.00) # 2 sec timeout, should work without problems if connected to the internet"
   ]
  },
  {
   "cell_type": "markdown",
   "metadata": {},
   "source": [
    "Now with a shorter timeout of 50 ms.\n",
    "\n",
    "An error is expected here unless github.com can respond in under 50 ms."
   ]
  },
  {
   "cell_type": "code",
   "execution_count": null,
   "metadata": {},
   "outputs": [],
   "source": [
    "requests.get('https://github.com/', timeout=0.050) "
   ]
  },
  {
   "cell_type": "code",
   "execution_count": null,
   "metadata": {},
   "outputs": [],
   "source": []
  }
 ],
 "metadata": {
  "kernelspec": {
   "display_name": "Python 3",
   "language": "python",
   "name": "python3"
  },
  "language_info": {
   "codemirror_mode": {
    "name": "ipython",
    "version": 3
   },
   "file_extension": ".py",
   "mimetype": "text/x-python",
   "name": "python",
   "nbconvert_exporter": "python",
   "pygments_lexer": "ipython3",
   "version": "3.10.0"
  }
 },
 "nbformat": 4,
 "nbformat_minor": 4
}
