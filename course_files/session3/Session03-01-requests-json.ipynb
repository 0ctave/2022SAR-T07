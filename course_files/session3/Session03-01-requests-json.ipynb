{
 "cells": [
  {
   "cell_type": "markdown",
   "metadata": {},
   "source": [
    "# 0. Combining plotting with live data from a web server\n",
    "\n",
    "You need to create a combination of:\n",
    "* The automatically updating plot with a time delay as done in `Session02-04-Matplotlib.ipynb`, Section 4, with\n",
    "* The functionality or requesting (`GET`) and posting (`POST`) data to a web server."
   ]
  },
  {
   "cell_type": "markdown",
   "metadata": {},
   "source": [
    "## Preparation\n",
    "\n",
    "A *very simple* REST web server is provided for you in `Session03-02-simple-json-http-server.ipynb`.\n",
    "This implementation should not require any modification, but if you have problems, please ask for help.\n",
    "\n",
    "Before continuing, open `Session03-02-simple-json-http-server.ipynb` into another tab in `Jupyter Lab` and *execute the notebook*.\n",
    "It should only print `Hello. Serving at port 8891` and wait doing nothing. This is *normal* since out server is just waiting to respond to requests, which we have not yet made.\n",
    "\n",
    "The server should be running on `PORT` 8891. You can configure this port in `Session03-02-simple-json-http-server.ipynb` by modifying the value of the `PORT` variable.\n",
    "Make sure to use the same port in the requests as in the server."
   ]
  },
  {
   "cell_type": "markdown",
   "metadata": {},
   "source": [
    "## Context\n",
    "\n",
    "This REST web server provides simple functionality related to generating *random integers* in a given *range*.\n",
    "\n",
    "The API of the server is:\n",
    "\n",
    "### 1. `GET` `/random_range`\n",
    "Returns the current random integer *range* (should be \\[1, 10\\] by default).\n",
    "\n",
    "The JSON response content is of the form:\n",
    "```json\n",
    "{\n",
    "  'from_n': 1,\n",
    "  'to_n': 10\n",
    "}\n",
    "```\n",
    "but the values `1` and `10` may be different.\n",
    "\n",
    "With the default parameters the URL you need to provide to the `requests` library is of the form: `'http://127.0.0.1:8891/random_range'`\n",
    "\n",
    "\n",
    "### 2. `GET` `/random_number`\n",
    "Returns a new generated random integer *number* each time.\n",
    "\n",
    "The JSON response content is of the form:\n",
    "```json\n",
    "{\n",
    "  'number': 7\n",
    "}\n",
    "```\n",
    "but the value `7` may be different and should usually change from request to request.\n",
    "\n",
    "With the default parameters the URL you need to provide to the `requests` library is of the form: `'http://127.0.0.1:8891/random_number'`\n",
    "\n",
    "### 3. `POST` `/random_range`\n",
    "Takes a new random integer range as input, sets it to be used in future requests and returns the new current random integer *range*.\n",
    "\n",
    "The JSON request *body* content is of the form:\n",
    "```json\n",
    "{\n",
    "  'from_n': 5,\n",
    "  'to_n': 100\n",
    "}\n",
    "```\n",
    "\n",
    "The JSON response content is of the form:\n",
    "```json\n",
    "{\n",
    "  'from_n': 5,\n",
    "  'to_n': 100\n",
    "}\n",
    "```\n",
    "but the values `5` and `100` may be different. Normally, the provided range as input should be the same as the one returned, but if an error has occurred the new range may not have been updated.\n",
    "Check the response to make sure it is up-to-date.\n",
    "\n",
    "With the default parameters the URL you need to provide to the `requests` library is of the form: `'http://127.0.0.1:8891/random_range'`"
   ]
  },
  {
   "cell_type": "markdown",
   "metadata": {},
   "source": [
    "# 1. Problem steps *without plotting*\n",
    "\n",
    "1. Make one `POST` request to set the random range to \\[1, 10\\].\n",
    "2. Make one `GET` request to get the current range. Print the current range.\n",
    "3. Make 20 `GET` requests to get one random integer (each) in the \\[1, 10\\] range. Print the random integers one by one, as they come from the server.\n",
    "4. Make one `POST` request to set the random range to \\[41, 50\\]. Check that these are the values returned also. In other words validate that the new range is indeed \\[41, 50\\].\n",
    "5. Make 20 `GET` requests to get one random integer (each) in the \\[41, 50\\] range. Print the random integers one by one, as they come from the server.\n",
    "\n"
   ]
  },
  {
   "cell_type": "code",
   "execution_count": 16,
   "metadata": {
    "collapsed": false,
    "jupyter": {
     "outputs_hidden": false
    },
    "pycharm": {
     "name": "#%%\n"
    }
   },
   "outputs": [
    {
     "name": "stdout",
     "output_type": "stream",
     "text": [
      "Post range {'from_n': 1, 'to_n': 100}\n",
      "Current Range {'from_n': 1, 'to_n': 100}\n",
      "n°0 Ramdom number : 28\n",
      "n°1 Ramdom number : 73\n",
      "n°2 Ramdom number : 59\n",
      "n°3 Ramdom number : 22\n",
      "n°4 Ramdom number : 100\n",
      "n°5 Ramdom number : 91\n",
      "n°6 Ramdom number : 80\n",
      "n°7 Ramdom number : 66\n",
      "n°8 Ramdom number : 5\n",
      "n°9 Ramdom number : 49\n",
      "n°10 Ramdom number : 26\n",
      "n°11 Ramdom number : 45\n",
      "n°12 Ramdom number : 13\n",
      "n°13 Ramdom number : 27\n",
      "n°14 Ramdom number : 74\n",
      "n°15 Ramdom number : 87\n",
      "n°16 Ramdom number : 56\n",
      "n°17 Ramdom number : 76\n",
      "n°18 Ramdom number : 25\n",
      "n°19 Ramdom number : 64\n",
      "Post range {'from_n': 41, 'to_n': 50}\n",
      "n°0 Ramdom number : 42\n",
      "n°1 Ramdom number : 47\n",
      "n°2 Ramdom number : 45\n",
      "n°3 Ramdom number : 49\n",
      "n°4 Ramdom number : 48\n",
      "n°5 Ramdom number : 41\n",
      "n°6 Ramdom number : 46\n",
      "n°7 Ramdom number : 50\n",
      "n°8 Ramdom number : 47\n",
      "n°9 Ramdom number : 45\n",
      "n°10 Ramdom number : 41\n",
      "n°11 Ramdom number : 43\n",
      "n°12 Ramdom number : 44\n",
      "n°13 Ramdom number : 46\n",
      "n°14 Ramdom number : 50\n",
      "n°15 Ramdom number : 43\n",
      "n°16 Ramdom number : 46\n",
      "n°17 Ramdom number : 47\n",
      "n°18 Ramdom number : 44\n",
      "n°19 Ramdom number : 45\n"
     ]
    }
   ],
   "source": [
    "PORT = 8891\n",
    "\n",
    "import requests\n",
    "\n",
    "#1. Make one `POST` request to set the random range to \\[1, 10\\].\n",
    "url = f'http://127.0.0.1:{PORT}/random_range'\n",
    "\n",
    "data = {\n",
    "    'from_n': 1,\n",
    "    'to_n': 10\n",
    "}\n",
    "\n",
    "reponse =  requests.post(url, json=data)\n",
    "\n",
    "if reponse.status_code == 200 :\n",
    "    print(\"Post range\", reponse.json())\n",
    "\n",
    "#2. Make one `GET` request to get the current range. Print the current range.\n",
    "reponse = requests.get(url)\n",
    "if reponse.status_code == 200 :\n",
    "    print(\"Current Range\", reponse.json())\n",
    "\n",
    "\n",
    "#3. Make 20 `GET` requests to get one random integer (each) in the \\[1, 10\\] range. Print the random integers one by one, as they come from the server.\n",
    "url = f'http://127.0.0.1:{PORT}/random_number'\n",
    "for i in range(20):\n",
    "    reponse = requests.get(url)\n",
    "    if reponse.status_code == 200:\n",
    "        print(f\"n°{i} Ramdom number :\", reponse.json()['number'])\n",
    "#4. Make one `POST` request to set the random range to \\[41, 50\\]. Check that these are the values returned also. In other words validate that the new range is indeed \\[41, 50\\].\n",
    "url = f'http://127.0.0.1:{PORT}/random_range'\n",
    "\n",
    "data = {\n",
    "    'from_n': 41,\n",
    "    'to_n': 50\n",
    "}\n",
    "\n",
    "reponse =  requests.post(url, json=data)\n",
    "\n",
    "if reponse.status_code == 200 :\n",
    "    print(\"Post range\", reponse.json())\n",
    "\n",
    "\n",
    "#5. Make 20 `GET` requests to get one random integer (each) in the \\[41, 50\\] range. Print the random integers one by one, as they come from the server.\n",
    "url = f'http://127.0.0.1:{PORT}/random_number'\n",
    "for i in range(20):\n",
    "    reponse = requests.get(url)\n",
    "    if reponse.status_code == 200:\n",
    "        print(f\"n°{i} Ramdom number :\", reponse.json()['number'])\n",
    "\n",
    "\n"
   ]
  },
  {
   "cell_type": "markdown",
   "metadata": {},
   "source": [
    "# 2. Problem steps *with plotting*\n",
    "\n",
    "This works similarly to before in 1.\n",
    "\n",
    "1. Make one `POST` request to set the random range to \\[1, 10\\].\n",
    "2. Make 20 `GET` requests to get random integers in the \\[1, 10\\] range.\n",
    "  * In the for loop (provided, also as a solution to `Session02-04-Matplotlib.ipynb`, Section 4) plot the random numbers, with `x` being the incrementing order of the requesting number (0, 1, 2, ..., 19) and `y` being each time the corresponding generated random number.\n",
    "4. Make one `POST` request to set the random range to \\[41, 50\\].\n",
    "5. Make 20 `GET` requests to get random integers in the new range.\n",
    "  * In the for loop (provided again) plot the random numbers, with `x` being the incrementing order of the requesting number (20, 21, 22, ..., 39) and `y` being each time the corresponding generated random number.\n",
    "\n",
    "In the following for loop, one random value should be requested in each execution of the `get_next_point` function and returned by it.\n",
    "\n",
    "Create a simple line plot, but that **automatically updates** as every new value is generated.\n",
    "\n",
    "Wait/delay 0.2 seconds between each data point update to create an animation."
   ]
  },
  {
   "cell_type": "markdown",
   "metadata": {},
   "source": [
    "Expect something like this as a result:\n",
    "\n",
    "![Example](Session03-01-requests-json-Section-2.gif)"
   ]
  },
  {
   "cell_type": "code",
   "execution_count": 21,
   "metadata": {
    "collapsed": false,
    "jupyter": {
     "outputs_hidden": false
    },
    "pycharm": {
     "name": "#%%\n"
    }
   },
   "outputs": [
    {
     "data": {
      "image/png": "[encoded data removed]",
      "text/plain": [
       "<Figure size 432x288 with 1 Axes>"
      ]
     },
     "metadata": {
      "needs_background": "light"
     },
     "output_type": "display_data"
    }
   ],
   "source": [
    "PORT = 8891\n",
    "\n",
    "import requests\n",
    "\n",
    "import time\n",
    "import matplotlib.pyplot as plt\n",
    "from IPython.display import clear_output\n",
    "\n",
    "\n",
    "\n",
    "# Provided partially implemented: \n",
    "def get_next_point():\n",
    "    url = f'http://127.0.0.1:{PORT}/random_number'\n",
    "    reponse = requests.get(url)\n",
    "    if reponse.status_code == 200 :\n",
    "        return reponse.json()[\"number\"]\n",
    "    return None\n",
    "\n",
    "# Provided already implemented: List holding the x values\n",
    "data_x = []\n",
    "# Provided already implemented: List holding the y values\n",
    "data_y = []\n",
    "\n",
    "\n",
    "# TODO: Set the range to [1, 10]\n",
    "url = f'http://127.0.0.1:{PORT}/random_range'\n",
    "\n",
    "data = {\n",
    "    'from_n': 1,\n",
    "    'to_n': 10\n",
    "}\n",
    "\n",
    "reponse =  requests.post(url, json=data)\n",
    "\n",
    "if reponse.status_code == 200 :\n",
    "    print(\"Post range\", reponse.json())\n",
    "\n",
    "# Provided already implemented: make 20 iterations, getting a random number each time, and plotting a new plot with updated values.\n",
    "for x in range(0, 20):\n",
    "    data_x.append(x)  # Add the current x to the list\n",
    "    y = get_next_point() # Request a new random value and store in y\n",
    "    data_y.append(y) # Add the current y to the list\n",
    "\n",
    "    clear_output(wait=True) # Clear / remove whatever was already plotted before\n",
    "    plt.plot(data_x, data_y) # Re-plot the data with the new added values in the list\n",
    "    plt.show() # Make sure to display the new plot, to make it visible\n",
    "    time.sleep(0.2) # Wait 0.2 seconds before the next request\n",
    "\n",
    "# TODO: Set the range to [41, 50]    \n",
    "url = f'http://127.0.0.1:{PORT}/random_range'\n",
    "\n",
    "data = {\n",
    "    'from_n': 41,\n",
    "    'to_n': 50\n",
    "}\n",
    "\n",
    "reponse =  requests.post(url, json=data)\n",
    "\n",
    "if reponse.status_code == 200 :\n",
    "    print(\"Post range\", reponse.json())\n",
    "\n",
    "# Provided already implemented: make 20 iterations, getting a random number each time, and plotting a new plot with updated values.\n",
    "for x in range(20, 40):\n",
    "    data_x.append(x)  # Add the current x to the list\n",
    "    y = get_next_point() # Request a new random value and store in y\n",
    "    data_y.append(y) # Add the current y to the list\n",
    "\n",
    "    clear_output(wait=True) # Clear / remove whatever was already plotted before\n",
    "    plt.plot(data_x, data_y) # Re-plot the data with the new added values in the list\n",
    "    plt.show() # Make sure to display the new plot, to make it visible\n",
    "    time.sleep(0.2) # Wait 0.2 seconds before the next request\n"
   ]
  }
 ],
 "metadata": {
  "interpreter": {
   "hash": "5e765dc897edabe91acefeec51563890894a90b7c9130a77fb433a9c74b28dfa"
  },
  "kernelspec": {
   "display_name": "Python 3.9.7 ('sarvenv': venv)",
   "language": "python",
   "name": "python3"
  },
  "language_info": {
   "codemirror_mode": {
    "name": "ipython",
    "version": 3
   },
   "file_extension": ".py",
   "mimetype": "text/x-python",
   "name": "python",
   "nbconvert_exporter": "python",
   "pygments_lexer": "ipython3",
   "version": "3.9.7"
  }
 },
 "nbformat": 4,
 "nbformat_minor": 4
}
