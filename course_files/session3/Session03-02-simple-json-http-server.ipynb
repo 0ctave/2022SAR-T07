{
 "cells": [
  {
   "cell_type": "markdown",
   "metadata": {
    "pycharm": {
     "name": "#%% md\n"
    }
   },
   "source": [
    "# Execute this whole notebook and go back to `Session03-01-requests-json.ipynb`"
   ]
  },
  {
   "cell_type": "code",
   "execution_count": 1,
   "metadata": {
    "pycharm": {
     "is_executing": true
    }
   },
   "outputs": [
    {
     "name": "stdout",
     "output_type": "stream",
     "text": [
      "Hello. Serving at port 8891\n"
     ]
    },
    {
     "name": "stderr",
     "output_type": "stream",
     "text": [
      "127.0.0.1 - - [06/May/2022 09:03:46] \"GET /random_number HTTP/1.1\" 200 -\n",
      "127.0.0.1 - - [06/May/2022 09:03:47] \"GET /favicon.ico HTTP/1.1\" 400 -\n"
     ]
    }
   ],
   "source": [
    "import urllib.parse\n",
    "import http.server\n",
    "import socketserver\n",
    "import json\n",
    "import random\n",
    "from pprint import pprint\n",
    "\n",
    "class RandomDataGenerator:\n",
    "    def __init__(self, seed, from_n, to_n):\n",
    "        self.seed = seed\n",
    "        self.from_n = from_n\n",
    "        self.to_n = to_n\n",
    "        self.rng = random.Random(self.seed)\n",
    "\n",
    "    def get_next(self):\n",
    "        return self.rng.randint(self.from_n, self.to_n)\n",
    "\n",
    "    def get_range(self):\n",
    "        return self.from_n, self.to_n\n",
    "\n",
    "    def set_range(self, from_n, to_n):\n",
    "        self.from_n = from_n\n",
    "        self.to_n = to_n\n",
    "\n",
    "\n",
    "rdg = RandomDataGenerator(1, 1, 10)\n",
    "\n",
    "class CustomRequestHandler(http.server.BaseHTTPRequestHandler):\n",
    "    def __init__(self, *args, **kwargs):\n",
    "        self.routes = {\n",
    "            'GET': {\n",
    "                '/random_number': self.do_GET_random_number,\n",
    "                '/random_range': self.do_GET_random_range,\n",
    "            },\n",
    "            'POST': {\n",
    "                '/random_range': self.do_POST_random_range\n",
    "            },\n",
    "        }\n",
    "        super(CustomRequestHandler, self).__init__(*args, **kwargs)\n",
    "\n",
    "\n",
    "    def _send_response(self, data, status=200, content_type=\"application/json\"):\n",
    "        self.send_response(status)\n",
    "        self.send_header(\"Content-Type\", content_type)\n",
    "        self.send_header(\"Content-Length\", str(len(data)))\n",
    "        self.end_headers()\n",
    "        self.wfile.write(data)\n",
    "        self.wfile.flush()\n",
    "\n",
    "\n",
    "    def do_GET_random_number(self):\n",
    "        data = {\n",
    "            'number': rdg.get_next()\n",
    "        }\n",
    "        return self._send_response(json.dumps(data).encode('utf-8'))\n",
    "\n",
    "    def do_GET_random_range(self):\n",
    "        from_n, to_n = rdg.get_range()\n",
    "        data = {\n",
    "            'from_n': from_n,\n",
    "            'to_n': to_n\n",
    "        }\n",
    "        return self._send_response(json.dumps(data).encode('utf-8'))\n",
    "\n",
    "    def do_GET(self):\n",
    "        url = urllib.parse.urlparse(self.path)\n",
    "        handler = self.routes['GET'].get(url.path)\n",
    "        if handler is not None:\n",
    "            return handler()\n",
    "        else:\n",
    "            return self._send_response(f\"404: {url}\".encode('utf-8'), status=400)\n",
    "\n",
    "\n",
    "    def do_POST_random_range(self):\n",
    "        content_length = int(self.headers['Content-Length'])\n",
    "        post_data = self.rfile.read(content_length)\n",
    "        req_cont = json.loads(post_data.decode('utf-8'))\n",
    "        rdg.set_range(req_cont['from_n'], req_cont['to_n'])\n",
    "        return self.do_GET_random_range()\n",
    "\n",
    "\n",
    "    def do_POST(self):\n",
    "        url = urllib.parse.urlparse(self.path)\n",
    "        handler = self.routes['POST'].get(url.path)\n",
    "        if handler is not None:\n",
    "            return handler()\n",
    "        else:\n",
    "            return self._send_response(f\"404: {url}\".encode('utf-8'), status=400)\n",
    "\n",
    "PORT = 8891\n",
    "\n",
    "if __name__ == \"__main__\":\n",
    "    socketserver.TCPServer.allow_reuse_address = True\n",
    "    with socketserver.TCPServer((\"\", PORT), CustomRequestHandler) as httpd:\n",
    "        print(\"Hello. Serving at port\", PORT)\n",
    "        httpd.serve_forever()"
   ]
  }
 ],
 "metadata": {
  "kernelspec": {
   "display_name": "Python 3",
   "language": "python",
   "name": "python3"
  },
  "language_info": {
   "codemirror_mode": {
    "name": "ipython",
    "version": 3
   },
   "file_extension": ".py",
   "mimetype": "text/x-python",
   "name": "python",
   "nbconvert_exporter": "python",
   "pygments_lexer": "ipython3",
   "version": "3.10.0"
  }
 },
 "nbformat": 4,
 "nbformat_minor": 4
}
