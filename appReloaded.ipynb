{
 "cells": [
  {
   "cell_type": "code",
   "execution_count": 1,
   "metadata": {
    "pycharm": {
     "name": "#%%\n"
    }
   },
   "outputs": [],
   "source": [
    "#IMPORTS#############################################################\n",
    "import requests\n",
    "import visualisationGlock2 as v\n",
    "import json\n",
    "import matplotlib.pyplot as plt\n",
    "from IPython.display import clear_output\n",
    "from tqdm.notebook import tqdm, trange\n",
    "#VARIABLES###########################################################\n",
    "# URLS\n",
    "urlo = \"https://entersim.bloctave.fr/\"\n",
    "teamName = \"T1\"\n",
    "url = f'https://entersim.bloctave.fr/control/poll/create_from_example_sim4/{teamName}'\n",
    "\n",
    "sampleUrl = \"https://entersim2.bloctave.fr/enterprise/poll/inventory\"\n",
    "\n",
    "# MISC\n",
    "nbSteps = 232 #hours\n",
    "\n",
    "#FUNCTIONS##########################################################\n",
    "def runOneStep() :\n",
    "    requests.post( urlo+ \"control/poll/run_one_step\")\n",
    "\n",
    "def getPoll(url) :\n",
    "    return requests.get(urlo + \"enterprise/poll/\"+url)\n",
    "\n",
    "def init(runstep=True):\n",
    "    response = requests.post(url)\n",
    "    print(response)\n",
    "    if runstep :\n",
    "        runOneStep()\n"
   ]
  },
  {
   "cell_type": "code",
   "execution_count": 2,
   "metadata": {
    "pycharm": {
     "name": "#%%\n"
    }
   },
   "outputs": [],
   "source": [
    "#SPECIFIC FUNCTIONS###########################################\n",
    "# FUND\n",
    "def createFundGraph(ax):\n",
    "    return v.LineGraph(\"\", x_legend='Hours', y_legend=\"Funds in euro\",ax=ax)\n",
    "\n",
    "def getFunds():\n",
    "    response = getPoll('inventory').json()\n",
    "    return response['funds_in_eur']\n",
    "\n",
    "# PROFIT\n",
    "def createProfitGraph(ax):\n",
    "    return v.LineGraph(\"\", x_legend='Hours', y_legend=\"Profit in euro\",ax=ax)\n",
    "\n",
    "# ITEMS\n",
    "def createItemsGraph(ax):\n",
    "    return v.MultipleLineGraph([\"ProcMat1 break-even price\",\"ProcMat1 sale price\",\"ProcMat2 break-even price\",\"ProcMat2 sale price\"],title=\"\",x_legend=\"Hours\",y_legend=\"Price (Euro)\",ax=ax)\n",
    "\n",
    "def getItems():\n",
    "    response_market = getPoll('market_price').json()\n",
    "\n",
    "    price1 = [i['unit_price'] for i in response_market if i['item']['name']=='ProcMat1']\n",
    "    price2 = [i['unit_price'] for i in response_market if i['item']['name']=='ProcMat2']\n",
    "\n",
    "\n",
    "    response_accounting = getPoll('analytical_accounting_sim4').json()\n",
    "\n",
    "    breakeven1 = response_accounting['ProcMat1']\n",
    "    breakeven2 = response_accounting['ProcMat2']\n",
    "\n",
    "    return [breakeven1,price1,breakeven2,price2]\n"
   ]
  },
  {
   "cell_type": "code",
   "execution_count": 3,
   "metadata": {
    "pycharm": {
     "name": "#%%\n"
    }
   },
   "outputs": [
    {
     "name": "stdout",
     "output_type": "stream",
     "text": [
      "<Response [201]>\n"
     ]
    },
    {
     "data": {
      "application/vnd.jupyter.widget-view+json": {
       "model_id": "a3120157fc104a5badc430565d52cd4e",
       "version_major": 2,
       "version_minor": 0
      },
      "text/plain": [
       "  0%|          | 0/232 [00:00<?, ?it/s]"
      ]
     },
     "metadata": {},
     "output_type": "display_data"
    },
    {
     "data": {
      "image/png": "[encoded data removed]",
      "text/plain": [
       "<Figure size 432x288 with 3 Axes>"
      ]
     },
     "metadata": {
      "needs_background": "light"
     },
     "output_type": "display_data"
    }
   ],
   "source": [
    "#Initialisation\n",
    "init()\n",
    "\n",
    "#Composite plot\n",
    "fig, axs = plt.subplots(3)\n",
    "fig.suptitle('Team Example without sale price adaptation')\n",
    "\n",
    "graphs = []\n",
    "\n",
    "# Initialisation\n",
    "funds = createFundGraph(axs[0])\n",
    "profits = createProfitGraph(axs[1])\n",
    "items = createItemsGraph(axs[2])\n",
    "\n",
    "graphs.extend([funds,profits,items])\n",
    "\n",
    "#Usefull variables\n",
    "prevFunds = None\n",
    "\n",
    "for i in tqdm(range(nbSteps)) :\n",
    "    #1.FUNDS\n",
    "    currFunds = getFunds()\n",
    "    funds.addPoint(i,currFunds)\n",
    "    #2.PROFIT\n",
    "    if prevFunds==None :prevFunds=currFunds\n",
    "    profit = currFunds-prevFunds\n",
    "    profits.addPoint(i,profit)\n",
    "    prevFunds=currFunds\n",
    "    #3.SALE PRICE\n",
    "    items.addPoint(i,getItems())\n",
    "\n",
    "    #Run one step\n",
    "    runOneStep()\n",
    "\n",
    "# Display it\n",
    "for graph in graphs :\n",
    "    graph.refreshDisplay()\n"
   ]
  },
  {
   "cell_type": "markdown",
   "source": [
    "If the only factor affecting the total profit is the fact that machine can partially break down and produce less, by reading the graph above we can clearly see that it directly impacts the profit per hour and the funds of the company. To balance these irregularities a solution could be to adapt the price of the products whenever the machine breaks down, it would result to a constant profit per hour, as it is compensated by the price of the products and the funds would grow following a more steady affine law."
   ],
   "metadata": {
    "collapsed": false,
    "pycharm": {
     "name": "#%% md\n"
    }
   }
  },
  {
   "cell_type": "code",
   "execution_count": null,
   "outputs": [],
   "source": [
    "#Initialisation\n",
    "init()\n",
    "\n",
    "#Composite plot\n",
    "fig, axs = plt.subplots(3)\n",
    "fig.suptitle('Team Example with sale price adaptation')\n",
    "\n",
    "graphs = []\n",
    "\n",
    "# Initialisation\n",
    "funds = createFundGraph(axs[0])\n",
    "profits = createProfitGraph(axs[1])\n",
    "items = createItemsGraph(axs[2])\n",
    "\n",
    "graphs.extend([funds,profits,items])\n",
    "\n",
    "#Usefull variables\n",
    "prevFunds = None\n",
    "\n",
    "for i in tqdm(range(nbSteps)) :\n",
    "    #1.FUNDS\n",
    "    currFunds = getFunds()\n",
    "    funds.addPoint(i,currFunds)\n",
    "    #2.PROFIT\n",
    "    if prevFunds==None :prevFunds=currFunds\n",
    "    profit = currFunds-prevFunds\n",
    "    profits.addPoint(i,profit)\n",
    "    prevFunds=currFunds\n",
    "    #3.SALE PRICE\n",
    "    items.addPoint(i,getItems())\n",
    "\n",
    "    response_accounting = getPoll('analytical_accounting_sim4').json()\n",
    "\n",
    "    breakeven1 = response_accounting['ProcMat1']\n",
    "    breakeven2 = response_accounting['ProcMat2']\n",
    "\n",
    "    data = {\n",
    "    'ProcMat1_unit_price': breakeven1,\n",
    "    'ProcMat2_unit_price': breakeven2\n",
    "    }\n",
    "\n",
    "    response = requests.post(urlo + \"enterprise/poll/set_market_sell_price_sim4\", json=data)\n",
    "\n",
    "    #Run one step\n",
    "    runOneStep()\n",
    "\n",
    "# Display it\n",
    "for graph in graphs :\n",
    "    graph.refreshDisplay()"
   ],
   "metadata": {
    "collapsed": false,
    "pycharm": {
     "name": "#%%\n"
    }
   }
  }
 ],
 "metadata": {
  "kernelspec": {
   "display_name": "Python 3.10.0 64-bit",
   "language": "python",
   "name": "python3"
  },
  "language_info": {
   "codemirror_mode": {
    "name": "ipython",
    "version": 3
   },
   "file_extension": ".py",
   "mimetype": "text/x-python",
   "name": "python",
   "nbconvert_exporter": "python",
   "pygments_lexer": "ipython3",
   "version": "3.10.0"
  },
  "orig_nbformat": 4,
  "vscode": {
   "interpreter": {
    "hash": "7c94a9b55f848b6284a99100d63013ad603b1f79cbed495064e1b0ac9bb626c1"
   }
  }
 },
 "nbformat": 4,
 "nbformat_minor": 2
}